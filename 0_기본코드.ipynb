{
 "cells": [
  {
   "cell_type": "code",
   "execution_count": 1,
   "metadata": {
    "collapsed": true
   },
   "outputs": [],
   "source": [
    "from LandBase import *\n",
    "\n",
    "def adm_law_to_db(con) :\n",
    "    ####\n",
    "    # 행정동-법정동 매핑정보를 DB에 입력 (출처: 행정표준코드 관리시스템, 행정안전부 -> 주민등록주소코드 변경내역)\n",
    "    # 테이블: adm_law_map\n",
    "    # 법정동 코드 (10자리) : 실제주소. 시도(2)+시군구(3)+읍면동(3)+리(2)\n",
    "    ####\n",
    "    df = pd.read_csv('./source_files/adm_law_mapping.csv', sep=',', dtype={'행정동코드':str, '법정동코드':str}, encoding='utf-8')\n",
    "    df = df[ (df['시도명'].str.slice(0, 2).str.contains('서울|경기|인천')) ]\n",
    "    df.rename(columns={'행정동코드':'admd_cd', '시도명':'sido_nm', '시군구명':'sgg_nm', '읍면동명':'admd_nm', \\\n",
    "                       '법정동코드':'lawd_cd', '동리명':'lawd_nm', '생성일자':'from_dt', '말소일자':'to_dt'}, inplace=True)\n",
    "    # DB 처리\n",
    "    table_name = 'adm_law_map'\n",
    "    sql = 'delete from ' + table_name\n",
    "    con.execute(sql)\n",
    "    df.to_sql(name=table_name, con=con,  if_exists='append', index=False, chunksize=1000)\n",
    "    sql = 'delete from ' + table_name + ' where to_dt < \\'19970101\\''\n",
    "    con.execute(sql)\n",
    "    sql = 'update ' + table_name \\\n",
    "    + ' set lawd_nm = sgg_nm where replace(sgg_nm, \\' \\', \\'\\') = replace(lawd_nm, \\' \\', \\'\\') ' \\\n",
    "    + ' and char_length(sgg_nm) != char_length(lawd_nm)'\n",
    "    con.execute(sql)\n",
    "    \n",
    "def lawd_to_db(con) :\n",
    "    ####\n",
    "    # 법정동 정보를 DB에 입력 (출처: 행정표준코드 관리시스템)\n",
    "    # 테이블: lawd_mstr\n",
    "    ####\n",
    "    df = pd.read_csv('./source_files/lawd_all_data.txt', sep='\\t', dtype={'법정동코드':str}, encoding='utf-8')\n",
    "    df = df[ (df['법정동명'].str.slice(0, 2).str.contains('서울|경기|인천')) ]\n",
    "    df.rename(columns={'법정동코드':'lawd_cd', '법정동명':'lawd_nm', '폐지여부':'abolished_yn'}, inplace=True)\n",
    "    # DB 처리\n",
    "    table_name = 'lawd_mstr'\n",
    "    delete_sql = 'delete from ' + table_name\n",
    "    con.execute(delete_sql)\n",
    "    df.to_sql(name=table_name, con=con,  if_exists='append', index=False, chunksize=1000)\n",
    "\n",
    "def admd_to_db (engine) :\n",
    "    ####\n",
    "    # 행정동 정보를 DB에 입력 (출처: )\n",
    "    # 테이블: admd_mstr (행정=administrative)\n",
    "    ####\n",
    "    df = pd.read_excel('http://sgis.kostat.go.kr/OpenAPI2/upload/unitarea_code.xls', skiprows=1)\n",
    "    df.rename(columns={'시도코드':'sido_cd', '시도명칭':'sido_nm', \\\n",
    "                       '시군구코드':'sgg_cd', '시군구명칭':'sgg_nm', \\\n",
    "                       '읍면동코드':'admd_cd','읍면동명칭':'admd_nm'}, inplace=True)\n",
    "    # DB 처리\n",
    "    table_name = 'admd_mstr'\n",
    "    delete_sql = 'delete from ' + table_name\n",
    "    con.execute(delete_sql)\n",
    "    df.to_sql(name=table_name, con=con,  if_exists='append', index=False, chunksize=1000)\n"
   ]
  },
  {
   "cell_type": "code",
   "execution_count": 4,
   "metadata": {},
   "outputs": [
    {
     "name": "stdout",
     "output_type": "stream",
     "text": [
      "Program Finised\n"
     ]
    }
   ],
   "source": [
    "# DB Connection Open\n",
    "con = get_db_connection()\n",
    "\n",
    "# 법정동 정보 입력\n",
    "# 테이블: lawd_mstr \n",
    "#lawd_to_db(con)\n",
    "\n",
    "# 행정동 정보 입력\n",
    "# 테이블: admd_mstr \n",
    "#admd_to_db(con)\n",
    "\n",
    "# 법정동-행정동 매핑 정보 입력\n",
    "# 테이블: adm_law_map\n",
    "adm_law_to_db(con)\n",
    "\n",
    "# DB Connection Close\n",
    "disconnect_db(con)\n",
    "\n",
    "print('Program Finised')"
   ]
  },
  {
   "cell_type": "code",
   "execution_count": null,
   "metadata": {
    "collapsed": true
   },
   "outputs": [],
   "source": []
  }
 ],
 "metadata": {
  "kernelspec": {
   "display_name": "Python 3",
   "language": "python",
   "name": "python3"
  },
  "language_info": {
   "codemirror_mode": {
    "name": "ipython",
    "version": 3
   },
   "file_extension": ".py",
   "mimetype": "text/x-python",
   "name": "python",
   "nbconvert_exporter": "python",
   "pygments_lexer": "ipython3",
   "version": "3.4.3"
  }
 },
 "nbformat": 4,
 "nbformat_minor": 2
}
