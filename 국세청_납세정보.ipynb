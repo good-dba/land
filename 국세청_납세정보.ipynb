{
 "cells": [
  {
   "cell_type": "code",
   "execution_count": 2,
   "metadata": {
    "collapsed": true
   },
   "outputs": [],
   "source": [
    "from LandBase import *\n",
    "\n",
    "# 근로소득세납부이력을 DB에 저장 (출처: 국가통계포털)\n",
    "def tax_history_into_db(p_con, p_yyyy, p_ignore_flag=True) :\n",
    "    table_name = 'tax_history'\n",
    "    exist_flag = False\n",
    "\n",
    "    # 기존 데이터를 무시하지 말라(p_ignore_flag==False)는 옵션이 주어지면\n",
    "    # 같은 데이터가 이미 있는지 검사해서 있으면 함수를 종료함\n",
    "    if (p_ignore_flag==False) :\n",
    "        sql = 'select 1 as cnt from '+table_name +' where tax_yyyy = \\'' + p_yyyy + '\\' limit 1'\n",
    "        exist_flag = check_data_exists(p_con, sql)\n",
    "        if (exist_flag) :\n",
    "            return\n",
    "    \n",
    "    # Open API 호출 (kosis.kr)\n",
    "    url = 'http://kosis.kr/openapi/statisticsData.do?method=getList&apiKey=' + kosis_kr_apikey \\\n",
    "    + '&format=json&jsonVD=Y' \\\n",
    "    + '&userStatsId=yyj1219/133/DT_13301_013/2/1/20170915101721&prdSe=Y' \\\n",
    "    + '&startPrdDe=' + p_yyyy \\\n",
    "    + '&endPrdDe=' + p_yyyy\n",
    "    \n",
    "    # json 형식으로 반환된 Open API 결과를 DataFrame으로 변환 (불필요한 항목은 빼고, 근로소득세만 남김)\n",
    "    response = requests.get(url)\n",
    "    df = pd.read_json(response.text)\n",
    "    df.drop(['C1', 'C1_NM_ENG', 'C1_OBJ_NM', 'C1_OBJ_NM_ENG', 'C2', 'C2_NM_ENG', 'C2_OBJ_NM', 'C2_OBJ_NM_ENG', \\\n",
    "            'ITM_ID', 'ITM_NM', 'ITM_NM_ENG', 'ORG_ID', 'PRD_SE', \\\n",
    "            'TBL_ID', 'TBL_NM', 'UNIT_NM', 'UNIT_NM_ENG'], axis=1, inplace=True)\n",
    "    #df = df[ (df['C1_NM']=='근로소득세') & (df['DT']!='-') ]\n",
    "    df = df[ (df['DT']!='-') ]\n",
    "    df.rename(columns={'PRD_DE':'tax_yyyy', 'C1_NM':'tax_type', 'C2_NM':'tax_office', 'DT':'tax_amount'}, inplace=True)\n",
    "\n",
    "    # DB 처리\n",
    "    con.execute('delete from ' + table_name + ' where tax_yyyy = \\'' + p_yyyy + '\\'')\n",
    "    df.to_sql(name=table_name, con=p_con,  if_exists='append', index=False, chunksize=1000)\n",
    "    con.execute('commit')\n"
   ]
  },
  {
   "cell_type": "code",
   "execution_count": null,
   "metadata": {
    "collapsed": true
   },
   "outputs": [],
   "source": [
    "# DB Connection Open\n",
    "con = get_db_connection()\n",
    "\n",
    "# 세금납부이력을 DB에 저장\n",
    "# 테이블: tax_history\n",
    "yyyy_list = get_yyyy_list('2012', '2016')\n",
    "for yyyy in yyyy_list :\n",
    "    tax_history_into_db(p_con=con, p_yyyy=yyyy, p_ignore_flag=False) \n",
    "\n",
    "# DB Connection Close\n",
    "disconnect_db(con)\n",
    "\n",
    "print('Program Finised')"
   ]
  }
 ],
 "metadata": {
  "kernelspec": {
   "display_name": "Python 3",
   "language": "python",
   "name": "python3"
  },
  "language_info": {
   "codemirror_mode": {
    "name": "ipython",
    "version": 3
   },
   "file_extension": ".py",
   "mimetype": "text/x-python",
   "name": "python",
   "nbconvert_exporter": "python",
   "pygments_lexer": "ipython3",
   "version": "3.4.3"
  }
 },
 "nbformat": 4,
 "nbformat_minor": 2
}
