{
 "cells": [
  {
   "cell_type": "code",
   "execution_count": 35,
   "metadata": {
    "collapsed": true
   },
   "outputs": [],
   "source": [
    "from LandBase import *\n",
    "\n",
    "def nts_to_db(con) :\n",
    "    ####\n",
    "    # 국세청(NTS)의 세무서 코드 정의를 DB에 저장\n",
    "    # 테이블: nts_mst\n",
    "    ####\n",
    "    \n",
    "    # DataFrame 작성\n",
    "    #df = pd.read_csv('./source_files/nts_officebasicinfo.csv', sep=',', dtype={'세무서코드':str}, encoding='utf-8')\n",
    "    df = pd.read_csv('./source_files/nts(nationl_tax_service_국세청)_전국세무관서.csv', sep=',', encoding='utf-8')\n",
    "    df.rename(columns={'세무서코드':'nts_cd', '세무서명':'nts_nm'}, inplace=True)\n",
    "    \n",
    "    # DB처리\n",
    "    table_name = 'nts_mst'\n",
    "    sql = 'delete from ' + table_name\n",
    "    con.execute(sql)\n",
    "    df.to_sql(name=table_name, con=con, if_exists='append', index=False, chunksize=1000)\n",
    "\n",
    "def nts_lawd_to_db(con, p_yyyymm) :\n",
    "    ####\n",
    "    # 국세청(NTS)의 세무서와 법정동 매핑 정보를 DB에 저장\n",
    "    # 테이블: nts_lawd_map\n",
    "    ####\n",
    "    \n",
    "    # DataFrame 작성\n",
    "    df = pd.read_csv('./source_files/nts(nationl_tax_service_국세청)_법정동매핑_201708.csv', sep=',', dtype={'세무서':str,'법정동코드':str}, encoding='utf-8')\n",
    "    df = df[['세무서','법정동코드','사용유무']] # 필요한 컬럼만 지정\n",
    "    df.rename(columns={'세무서':'nts_cd', '법정동코드':'lawd_cd', '사용유무':'use_yn'}, inplace=True)\n",
    "    df['base_ym']=p_yyyymm # 컬럼 추가 (기준년월)\n",
    "    \n",
    "    # DB처리\n",
    "    table_name = 'nts_lawd_map'\n",
    "    sql = 'delete from ' + table_name\n",
    "    con.execute(sql)\n",
    "    df.to_sql(name=table_name, con=con, if_exists='append', index=False, chunksize=1000)\n",
    "\n",
    "def tax_history_to_db(p_con, p_yyyy, p_ignore_flag=True) :\n",
    "    ####\n",
    "    # 세금납부이력을 DB에 저장 (출처: 국가통계포털)\n",
    "    # 테이블: tax_history\n",
    "    ####\n",
    "    table_name = 'tax_history'\n",
    "    exist_flag = False\n",
    "\n",
    "    # 기존 데이터를 무시하지 말라(p_ignore_flag==False)는 옵션이 주어지면\n",
    "    # 같은 데이터가 이미 있는지 검사해서 있으면 함수를 종료함\n",
    "    if (p_ignore_flag==False) :\n",
    "        sql = 'select 1 as cnt from '+table_name +' where tax_yyyy = \\'' + p_yyyy + '\\' limit 1'\n",
    "        exist_flag = check_data_exists(p_con, sql)\n",
    "        if (exist_flag) :\n",
    "            return\n",
    "    \n",
    "    # Open API 호출 (kosis.kr)\n",
    "    url = 'http://kosis.kr/openapi/statisticsData.do?method=getList&apiKey=' + kosis_kr_apikey \\\n",
    "    + '&format=json&jsonVD=Y' \\\n",
    "    + '&userStatsId=yyj1219/133/DT_13301_013/2/1/20170915101721&prdSe=Y' \\\n",
    "    + '&startPrdDe=' + p_yyyy \\\n",
    "    + '&endPrdDe=' + p_yyyy\n",
    "    \n",
    "    # json 형식으로 반환된 Open API 결과를 DataFrame으로 변환\n",
    "    response = requests.get(url)\n",
    "    df = pd.read_json(response.text)\n",
    "    df = df[['PRD_DE', 'C1_NM', 'C2_NM', 'DT']]\n",
    "    '''df.drop(['C1', 'C1_NM_ENG', 'C1_OBJ_NM', 'C1_OBJ_NM_ENG', 'C2', 'C2_NM_ENG', 'C2_OBJ_NM', 'C2_OBJ_NM_ENG', \\\n",
    "            'ITM_ID', 'ITM_NM', 'ITM_NM_ENG', 'ORG_ID', 'PRD_SE', \\\n",
    "            'TBL_ID', 'TBL_NM', 'UNIT_NM', 'UNIT_NM_ENG'], axis=1, inplace=True)'''\n",
    "    #df = df[ (df['C1_NM']=='근로소득세') & (df['DT']!='-') ]\n",
    "    df = df[ (df['C1_NM']!='합 계') & (df['DT']!='-') ]\n",
    "    df.rename(columns={'PRD_DE':'tax_yyyy', 'C1_NM':'tax_type', 'C2_NM':'nts_nm', 'DT':'tax_amount'}, inplace=True)\n",
    "\n",
    "    # DB 처리\n",
    "    con.execute('delete from ' + table_name + ' where tax_yyyy = \\'' + p_yyyy + '\\'')\n",
    "    df.to_sql(name=table_name, con=p_con,  if_exists='append', index=False, chunksize=1000)\n",
    "    con.execute('commit')\n"
   ]
  },
  {
   "cell_type": "code",
   "execution_count": 36,
   "metadata": {},
   "outputs": [
    {
     "ename": "ValueError",
     "evalue": "Expected object or value",
     "output_type": "error",
     "traceback": [
      "\u001b[0;31m---------------------------------------------------------------------------\u001b[0m",
      "\u001b[0;31mValueError\u001b[0m                                Traceback (most recent call last)",
      "\u001b[0;32m<ipython-input-36-e1177bf9a6ec>\u001b[0m in \u001b[0;36m<module>\u001b[0;34m()\u001b[0m\n\u001b[1;32m     11\u001b[0m \u001b[0;32mfor\u001b[0m \u001b[0myyyy\u001b[0m \u001b[0;32min\u001b[0m \u001b[0myyyy_list\u001b[0m \u001b[0;34m:\u001b[0m\u001b[0;34m\u001b[0m\u001b[0m\n\u001b[1;32m     12\u001b[0m     \u001b[0;31m# 세금납부이력을 DB에 저장 (출처: 국가통계포털)\u001b[0m\u001b[0;34m\u001b[0m\u001b[0;34m\u001b[0m\u001b[0m\n\u001b[0;32m---> 13\u001b[0;31m     \u001b[0mtax_history_to_db\u001b[0m\u001b[0;34m(\u001b[0m\u001b[0mcon\u001b[0m\u001b[0;34m,\u001b[0m \u001b[0myyyy\u001b[0m\u001b[0;34m,\u001b[0m \u001b[0mp_ignore_flag\u001b[0m\u001b[0;34m=\u001b[0m\u001b[0;32mTrue\u001b[0m\u001b[0;34m)\u001b[0m\u001b[0;34m\u001b[0m\u001b[0m\n\u001b[0m\u001b[1;32m     14\u001b[0m \u001b[0;34m\u001b[0m\u001b[0m\n\u001b[1;32m     15\u001b[0m \u001b[0;31m# DB Connection Close\u001b[0m\u001b[0;34m\u001b[0m\u001b[0;34m\u001b[0m\u001b[0m\n",
      "\u001b[0;32m<ipython-input-35-8d892f44cb44>\u001b[0m in \u001b[0;36mtax_history_to_db\u001b[0;34m(p_con, p_yyyy, p_ignore_flag)\u001b[0m\n\u001b[1;32m     57\u001b[0m     \u001b[0;31m# json 형식으로 반환된 Open API 결과를 DataFrame으로 변환\u001b[0m\u001b[0;34m\u001b[0m\u001b[0;34m\u001b[0m\u001b[0m\n\u001b[1;32m     58\u001b[0m     \u001b[0mresponse\u001b[0m \u001b[0;34m=\u001b[0m \u001b[0mrequests\u001b[0m\u001b[0;34m.\u001b[0m\u001b[0mget\u001b[0m\u001b[0;34m(\u001b[0m\u001b[0murl\u001b[0m\u001b[0;34m)\u001b[0m\u001b[0;34m\u001b[0m\u001b[0m\n\u001b[0;32m---> 59\u001b[0;31m     \u001b[0mdf\u001b[0m \u001b[0;34m=\u001b[0m \u001b[0mpd\u001b[0m\u001b[0;34m.\u001b[0m\u001b[0mread_json\u001b[0m\u001b[0;34m(\u001b[0m\u001b[0mresponse\u001b[0m\u001b[0;34m.\u001b[0m\u001b[0mtext\u001b[0m\u001b[0;34m)\u001b[0m\u001b[0;34m\u001b[0m\u001b[0m\n\u001b[0m\u001b[1;32m     60\u001b[0m     \u001b[0mdf\u001b[0m \u001b[0;34m=\u001b[0m \u001b[0mdf\u001b[0m\u001b[0;34m[\u001b[0m\u001b[0;34m[\u001b[0m\u001b[0;34m'PRD_DE'\u001b[0m\u001b[0;34m,\u001b[0m \u001b[0;34m'C1_NM'\u001b[0m\u001b[0;34m,\u001b[0m \u001b[0;34m'C2_NM'\u001b[0m\u001b[0;34m,\u001b[0m \u001b[0;34m'DT'\u001b[0m\u001b[0;34m]\u001b[0m\u001b[0;34m]\u001b[0m\u001b[0;34m\u001b[0m\u001b[0m\n\u001b[1;32m     61\u001b[0m     \u001b[0;34m'''df.drop(['C1', 'C1_NM_ENG', 'C1_OBJ_NM', 'C1_OBJ_NM_ENG', 'C2', 'C2_NM_ENG', 'C2_OBJ_NM', 'C2_OBJ_NM_ENG',             'ITM_ID', 'ITM_NM', 'ITM_NM_ENG', 'ORG_ID', 'PRD_SE',             'TBL_ID', 'TBL_NM', 'UNIT_NM', 'UNIT_NM_ENG'], axis=1, inplace=True)'''\u001b[0m\u001b[0;34m\u001b[0m\u001b[0m\n",
      "\u001b[0;32m/usr/local/lib/python3.4/dist-packages/pandas/io/json/json.py\u001b[0m in \u001b[0;36mread_json\u001b[0;34m(path_or_buf, orient, typ, dtype, convert_axes, convert_dates, keep_default_dates, numpy, precise_float, date_unit, encoding, lines)\u001b[0m\n\u001b[1;32m    352\u001b[0m         obj = FrameParser(json, orient, dtype, convert_axes, convert_dates,\n\u001b[1;32m    353\u001b[0m                           \u001b[0mkeep_default_dates\u001b[0m\u001b[0;34m,\u001b[0m \u001b[0mnumpy\u001b[0m\u001b[0;34m,\u001b[0m \u001b[0mprecise_float\u001b[0m\u001b[0;34m,\u001b[0m\u001b[0;34m\u001b[0m\u001b[0m\n\u001b[0;32m--> 354\u001b[0;31m                           date_unit).parse()\n\u001b[0m\u001b[1;32m    355\u001b[0m \u001b[0;34m\u001b[0m\u001b[0m\n\u001b[1;32m    356\u001b[0m     \u001b[0;32mif\u001b[0m \u001b[0mtyp\u001b[0m \u001b[0;34m==\u001b[0m \u001b[0;34m'series'\u001b[0m \u001b[0;32mor\u001b[0m \u001b[0mobj\u001b[0m \u001b[0;32mis\u001b[0m \u001b[0;32mNone\u001b[0m\u001b[0;34m:\u001b[0m\u001b[0;34m\u001b[0m\u001b[0m\n",
      "\u001b[0;32m/usr/local/lib/python3.4/dist-packages/pandas/io/json/json.py\u001b[0m in \u001b[0;36mparse\u001b[0;34m(self)\u001b[0m\n\u001b[1;32m    420\u001b[0m \u001b[0;34m\u001b[0m\u001b[0m\n\u001b[1;32m    421\u001b[0m         \u001b[0;32melse\u001b[0m\u001b[0;34m:\u001b[0m\u001b[0;34m\u001b[0m\u001b[0m\n\u001b[0;32m--> 422\u001b[0;31m             \u001b[0mself\u001b[0m\u001b[0;34m.\u001b[0m\u001b[0m_parse_no_numpy\u001b[0m\u001b[0;34m(\u001b[0m\u001b[0;34m)\u001b[0m\u001b[0;34m\u001b[0m\u001b[0m\n\u001b[0m\u001b[1;32m    423\u001b[0m \u001b[0;34m\u001b[0m\u001b[0m\n\u001b[1;32m    424\u001b[0m         \u001b[0;32mif\u001b[0m \u001b[0mself\u001b[0m\u001b[0;34m.\u001b[0m\u001b[0mobj\u001b[0m \u001b[0;32mis\u001b[0m \u001b[0;32mNone\u001b[0m\u001b[0;34m:\u001b[0m\u001b[0;34m\u001b[0m\u001b[0m\n",
      "\u001b[0;32m/usr/local/lib/python3.4/dist-packages/pandas/io/json/json.py\u001b[0m in \u001b[0;36m_parse_no_numpy\u001b[0;34m(self)\u001b[0m\n\u001b[1;32m    637\u001b[0m         \u001b[0;32mif\u001b[0m \u001b[0morient\u001b[0m \u001b[0;34m==\u001b[0m \u001b[0;34m\"columns\"\u001b[0m\u001b[0;34m:\u001b[0m\u001b[0;34m\u001b[0m\u001b[0m\n\u001b[1;32m    638\u001b[0m             self.obj = DataFrame(\n\u001b[0;32m--> 639\u001b[0;31m                 loads(json, precise_float=self.precise_float), dtype=None)\n\u001b[0m\u001b[1;32m    640\u001b[0m         \u001b[0;32melif\u001b[0m \u001b[0morient\u001b[0m \u001b[0;34m==\u001b[0m \u001b[0;34m\"split\"\u001b[0m\u001b[0;34m:\u001b[0m\u001b[0;34m\u001b[0m\u001b[0m\n\u001b[1;32m    641\u001b[0m             decoded = dict((str(k), v)\n",
      "\u001b[0;31mValueError\u001b[0m: Expected object or value"
     ]
    }
   ],
   "source": [
    "# DB Connection Open\n",
    "con = get_db_connection()\n",
    "\n",
    "# 국세청(NTS)의 세무서 코드 정의를 DB에 저장\n",
    "#nts_to_db(con)\n",
    "\n",
    "# 국세청(NTS)의 세무서와 법정동 매핑 정보를 DB에 저장\n",
    "#nts_lawd_to_db(con, '201706')\n",
    "\n",
    "yyyy_list = get_yyyy_list('2016', '2016')\n",
    "for yyyy in yyyy_list :\n",
    "    # 세금납부이력을 DB에 저장 (출처: 국가통계포털)\n",
    "    tax_history_to_db(con, yyyy, p_ignore_flag=True)\n",
    "\n",
    "# DB Connection Close\n",
    "disconnect_db(con)\n",
    "\n",
    "print('Program Finised')"
   ]
  },
  {
   "cell_type": "code",
   "execution_count": null,
   "metadata": {
    "collapsed": true
   },
   "outputs": [],
   "source": []
  }
 ],
 "metadata": {
  "kernelspec": {
   "display_name": "Python 3",
   "language": "python",
   "name": "python3"
  },
  "language_info": {
   "codemirror_mode": {
    "name": "ipython",
    "version": 3
   },
   "file_extension": ".py",
   "mimetype": "text/x-python",
   "name": "python",
   "nbconvert_exporter": "python",
   "pygments_lexer": "ipython3",
   "version": "3.4.3"
  }
 },
 "nbformat": 4,
 "nbformat_minor": 2
}
