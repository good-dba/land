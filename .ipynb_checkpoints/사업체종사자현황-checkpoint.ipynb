{
 "cells": [
  {
   "cell_type": "code",
   "execution_count": 1,
   "metadata": {
    "collapsed": true
   },
   "outputs": [],
   "source": [
    "from LandBase import *\n",
    "\n",
    "def biz_worker_to_db(con, p_yyyy='2015') :\n",
    "    ####\n",
    "    # \"KOSIS\" -> 온라인간행물 -> 전국사업체조사 -> 읍면동별 산업대분류별 현황\n",
    "    # 조회가능기간: 2000 ~ 2015\n",
    "    # 테이블: biz_worker\n",
    "    ####\n",
    "    \n",
    "    # DataFrame 작성\n",
    "    columns = ['admd_cd', 'admd_nm', 'biz_nm', \\\n",
    "               'tot_company_cnt', 'tot_worker_cnt', \\\n",
    "               'male_worker_cnt', 'female_worker_cnt', \\\n",
    "               'personal_company_cnt', 'personal_worker_cnt', \\\n",
    "               'corp_company_cnt', 'corp_worker_cnt', \\\n",
    "               'non_corp_company_cnt', 'non_corp_worker_cnt', \\\n",
    "               'grp_company_cnt', 'grp_worker_cnt', \\\n",
    "               'p_1_4_company_cnt', 'p_1_4_worker_cnt', 'p_5_9_company_cnt', 'p_5_9_worker_cnt', \\\n",
    "               'p_10_19_company_cnt', 'p_10_19_worker_cnt', 'p_20_49_company_cnt', 'p_20_49_worker_cnt', \\\n",
    "               'p_50_99_company_cnt', 'p_50_99_worker_cnt', 'p_100_299_company_cnt', 'p_100_299_worker_cnt', \\\n",
    "               'p_300_499_company_cnt', 'p_300_499_worker_cnt', 'p_500_999_company_cnt', 'p_500_999_worker_cnt', \\\n",
    "               'p_1000_company_cnt', 'p_1000_worker_cnt']\n",
    "    df = pd.read_excel('./source_files/kosis_온라인간행물_전국사업체조사_읍면동별산업대분류_' + p_yyyy +'.xlsx', \\\n",
    "                       skiprows=[0,1, 2], parse_cols=32, names=columns, header=None, encoding='euc-kr')\n",
    "    df.columns = columns\n",
    "    df['admd_cd'] = df['admd_cd'].str.extract('(\\d+)', expand=False).astype(int)\n",
    "    df = df[ (df['admd_cd'].astype(str).str.startswith('11')) |\\\n",
    "            (df['admd_cd'].astype(str).str.startswith('23')) |\\\n",
    "            (df['admd_cd'].astype(str).str.startswith('31'))]\n",
    "    df.replace(np.NaN, 0, inplace=True)\n",
    "    df['yyyy'] = p_yyyy\n",
    "\n",
    "    # DB처리\n",
    "    table_name = 'biz_worker'\n",
    "    sql = 'delete from ' + table_name + ' where yyyy = \\'' + p_yyyy + '\\'';\n",
    "    con.execute(sql)\n",
    "    df.to_sql(name=table_name, con=con, if_exists='append', index=False, chunksize=1000)\n"
   ]
  },
  {
   "cell_type": "code",
   "execution_count": 2,
   "metadata": {
    "scrolled": false
   },
   "outputs": [
    {
     "name": "stdout",
     "output_type": "stream",
     "text": [
      "2015\n",
      "Program Finised\n"
     ]
    }
   ],
   "source": [
    "# DB Connection Open\n",
    "con = get_db_connection()\n",
    "\n",
    "# \"KOSIS\"의 읍면동별 산업대분류별 현황\n",
    "for yyyy in range(2015, 2016, 1) :\n",
    "    print(yyyy)\n",
    "    biz_worker_to_db(con, str(yyyy))\n",
    "\n",
    "# DB Connection Close\n",
    "disconnect_db(con)\n",
    "\n",
    "print('Program Finised')"
   ]
  },
  {
   "cell_type": "code",
   "execution_count": null,
   "metadata": {
    "collapsed": true
   },
   "outputs": [],
   "source": []
  }
 ],
 "metadata": {
  "kernelspec": {
   "display_name": "Python 3",
   "language": "python",
   "name": "python3"
  },
  "language_info": {
   "codemirror_mode": {
    "name": "ipython",
    "version": 3
   },
   "file_extension": ".py",
   "mimetype": "text/x-python",
   "name": "python",
   "nbconvert_exporter": "python",
   "pygments_lexer": "ipython3",
   "version": "3.4.3"
  }
 },
 "nbformat": 4,
 "nbformat_minor": 2
}
