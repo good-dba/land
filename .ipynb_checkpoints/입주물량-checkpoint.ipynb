{
 "cells": [
  {
   "cell_type": "code",
   "execution_count": 180,
   "metadata": {},
   "outputs": [],
   "source": [
    "from LandBase import *\n",
    "\n",
    "# 주피터노트북 매직커맨드 혹은 매직키워드\n",
    "# 구글에서 찾을 때는 \"jupyter notebook Built-in magic commands\"라고 찾으면 수월함\n",
    "# %lsmagic : 사용 가능한 매직커맨드 목록\n",
    "# %quickref : 사용 가능한 매직커맨드 목록과 설명 (quick reference)\n",
    "# %prun : 주피터노트북에서 실행된 내용의 퍼포먼스 측정\n",
    "# %time : 주피터노트북에서 실행된 내용의 시간 측정\n",
    "# %pdb : 디버깅 목적으로 오류가 발생하면 그 위치에서 멈추게 함\n",
    "# %load_ext : 외부 플러그인 가져오기\n",
    "\n",
    "'''분양목록\n",
    "http://www.drapt.com/e_sale/index.htm?page_name=cal&menu_key=0&item=3&view_type=month&today_date=2015-10\n",
    "얻을 수 있는 정보: 단지이름, 단지번호\n",
    "\n",
    "단지기본 정보\n",
    "http://www.drapt.com/sise/html_view5/total.php?no=53685\n",
    "얻을 수 있는 정보: 주소, 단지규모, 입주시기, 난방방식, 시공사, 특징\n",
    "\n",
    "단지면적 정보\n",
    "http://www.drapt.com/sise/html_view5/size_info.php?no=53685\n",
    "얻을 수 있는 정보: 공급면적, 전용면적, 매매가, 전세가, 방/욕실, 가구수(임대)\n",
    "'''\n",
    "def apt_sell_info(p_ym='201510') :\n",
    "    ####\n",
    "    # 분양정보목록\n",
    "    # 출처: http://www.drapt.com/e_sale/index.htm?page_name=cal&menu_key=0&item=3&view_type=month&today_date=년-월\n",
    "    ####\n",
    "    \n",
    "    r_list = []\n",
    "    url = 'http://www.drapt.com/e_sale/index.htm?page_name=cal&menu_key=0&item=3&view_type=month&today_date=' + p_ym[:4] + '-' + p_ym[4:]\n",
    "    print(url)\n",
    "    \n",
    "    r = requests.get(url)\n",
    "    soup = BeautifulSoup(r.text, 'lxml') # bs4.BeautifulSoup 타입\n",
    "    # bs4.BeautifulSoup 타입에서 find 혹은 find_all만 한 결과는 bs4.element.ResultSet 타입이다.\n",
    "    # soup.find_all('table', 'esale_cal_table3') = soup.find_all('table', class_='esale_cal_table3')\n",
    "    # soup.find_all('table', class_='esale_cal_table3') : table 태그 중에서 class가 esale_cal_table3인 경우를 모두 찾음, bs4.element.ResultSet 타입\n",
    "    # soup.find('table', 'esale_cal_table3').find_all('tr') : 위에서 찾은 결과에서 tr 태그를 가진 값 모두 찾음, bs4.element.ResultSet 타입\n",
    "    for tr in soup.find('table', class_='esale_cal_table3').find_all('tr') :\n",
    "        # tr.find('th').find('span', 'td_date').find('strong') : 위에 찾은 결과에서 th 태그 -> span태그 & class가 td_date이고 -> strong 태그\n",
    "        # tr.find('th').find('span', 'td_date').find('strong').string : 위 결과에서 문자열로 된 값만 추출, bs4.element.NavigableString 타입, 여기서는 필요없으므로 안 찾음\n",
    "        for li in tr.find_all('li', class_=False) :\n",
    "            sell_type = '민간분양'\n",
    "            apt_type = li.find('span').string.strip('[]')\n",
    "            if apt_type == '오피스텔' : \n",
    "                continue # 오피스텔은 건너뛰기\n",
    "            apt_nm = li.find('a')['title'].strip()\n",
    "            if not apt_nm.startswith('서울') and not apt_nm.startswith('인천') and not apt_nm.startswith('경기') :\n",
    "                continue # 서울, 인천, 경기 아니면 건너뛰기\n",
    "            apt_no = re.findall('\\d+', li.find('a')['href'])[0]\n",
    "            if apt_nm.count('뉴스테이') :\n",
    "                sell_type = '뉴스테이'\n",
    "                apt_nm = apt_nm.replace('뉴스테이', '')\n",
    "            elif apt_nm.count('공공임대') :\n",
    "                sell_type = '공공임대'\n",
    "                apt_nm = apt_nm.replace('공공임대', '')\n",
    "            elif apt_nm.count('영구임대') :\n",
    "                sell_type = '영구임대'\n",
    "                apt_nm = apt_nm.replace('영구임대', '')\n",
    "            elif apt_nm.count('국민임대') :\n",
    "                sell_type = '국민임대'\n",
    "                apt_nm = apt_nm.replace('국민임대', '')\n",
    "            elif apt_nm.count('공공분양') :\n",
    "                sell_type = '공공분양'\n",
    "                apt_nm = apt_nm.replace('공공분양', '')\n",
    "            if apt_nm.endswith('순위') :\n",
    "                apt_nm = apt_nm.rsplit(' ', 1)[0]\n",
    "            apt_nm = apt_nm.replace('()', '').replace(',)', ')').replace(', )', ')')\n",
    "            r_list.append([p_ym, sell_type, apt_type, apt_no, apt_nm])\n",
    "    \n",
    "    df = pd.DataFrame(r_list, columns=['sell_ym', 'sell_type', 'apt_type', 'apt_no', 'apt_nm'])\n",
    "    df.drop_duplicates(inplace=True)\n",
    "    return df\n",
    "    \n",
    "def apt_basic_info(p_no='53685') :\n",
    "    ####\n",
    "    # 단지기본 정보\n",
    "    # 출처: http://www.drapt.com/sise/html_view5/total.php?no=단지번호\n",
    "    # 얻을 수 있는 정보: 주소, 단지규모, 입주시기, 난방방식, 시공사, 특징\n",
    "    ####\n",
    "    \n",
    "    r_list = [p_no]\n",
    "    url = 'http://www.drapt.com/sise/html_view5/total.php?no=' + p_no\n",
    "\n",
    "    r = requests.get(url)\n",
    "    soup = BeautifulSoup(r.text, 'lxml') # bs4.BeautifulSoup 타입\n",
    "    \n",
    "    for tr in soup.find('table').find_all('tr') :\n",
    "        for td in tr.find_all('td'):\n",
    "            r_list.append(td.contents[0].string.replace('\\n', '').strip())\n",
    "    \n",
    "    display(r_list)\n",
    "\n",
    "    \n",
    "# 아파트 단지 코드/이름\n",
    "def get_naver_complex(area_code):\n",
    "    \n",
    "    url = 'http://land.naver.com/article/articleList.nhn?' \\\n",
    "        + 'rletTypeCd=A01&tradeTypeCd=A1&hscpTypeCd=A01%3AA03%3AA04' \\\n",
    "        + '&cortarNo=' + area_code\n",
    "\n",
    "    r = requests.get(url)\n",
    "    soup = BeautifulSoup(r.text, 'lxml')\n",
    "    \n",
    "    value_list = []\n",
    "\n",
    "    apt_complex = soup.find('select', {'title':'단지'}).find_all('option')\n",
    "    for apt in apt_complex:\n",
    "        if apt.text != '단지' and apt['value'] != 'none' :\n",
    "            value_list.append([apt['value'], apt.text])\n",
    "                  \n",
    "    cols = ['단지번호', '단지명']\n",
    "    df = pd.DataFrame(value_list, columns=cols)\n",
    "    return df\n",
    "\n",
    "# 아파트 단지 정보\n",
    "def get_naver_aptinfo(area_code, rletNo, apt_name):\n",
    "\n",
    "    trs = table.tbody.find_all('tr')\n",
    "    \n",
    "    aptinfo = {}\n",
    "    for tr in trs :\n",
    "        th = tr.find_all('th')\n",
    "        td = tr.find_all('td')\n",
    "        try:\n",
    "            aptinfo[th[0].text] = td[0].text\n",
    "            aptinfo[th[1].text] = td[1].text\n",
    "        except:\n",
    "            pass\n",
    "\n",
    "    # 100 세대 미만은 무조건 버림\n",
    "    if int(re.findall('[\\d]+', aptinfo['총세대수'])[0]) < 100 :\n",
    "        return pd.DataFrame()\n",
    "\n",
    "    value_list = []\n",
    "    value_list.append(apt_name)\n",
    "    value_list.append(re.findall('[\\d]+', aptinfo['총세대수'])[0])\n",
    "    value_list.append(aptinfo['총동수'].replace('개동', '').strip())\n",
    "    value_list = [value_list]\n",
    "\n",
    "    cols = ['lawd_cd', 'rlet_no', 'apt_name', 'house_cnt', 'building_cnt', 'build_ym', 'company', 'park_total', 'park_house', 'heat_type', 'heat_fuel', 'floor_area_ratio', 'coverage_ratio', 'top_floor', 'low_floor']\n",
    "    df = pd.DataFrame(value_list, columns=cols)\n",
    "    return df\n"
   ]
  },
  {
   "cell_type": "code",
   "execution_count": 181,
   "metadata": {},
   "outputs": [
    {
     "name": "stdout",
     "output_type": "stream",
     "text": [
      "http://www.drapt.com/e_sale/index.htm?page_name=cal&menu_key=0&item=3&view_type=month&today_date=2015-10\n"
     ]
    },
    {
     "data": {
      "text/plain": [
       "['39801',\n",
       " '경기도 수원시 오목천동 824-1',\n",
       " '15~20층  32개동 임대 총2400가구',\n",
       " '85㎡(160가구),101㎡(928가구),115A㎡(364가구),114C㎡(94가구),115D㎡(108가구),115B㎡(746가구)',\n",
       " '10년',\n",
       " '지역난방',\n",
       " '한화건설',\n",
       " '상수천 조망권/']"
      ]
     },
     "metadata": {},
     "output_type": "display_data"
    },
    {
     "data": {
      "text/plain": [
       "['53386',\n",
       " '경기도 시흥시 목감동 시흥목감지구 A1블록',\n",
       " '3~19층  2개동 임대 총402가구',\n",
       " '34㎡(204가구),41㎡(198가구)',\n",
       " '영구임대년',\n",
       " '2016년 06월',\n",
       " '지역난방',\n",
       " 'LH',\n",
       " '442 대 가구당 1.10 대',\n",
       " '2016년 06월',\n",
       " '시흥목감 공공주택지구/']"
      ]
     },
     "metadata": {},
     "output_type": "display_data"
    },
    {
     "data": {
      "text/plain": [
       "['53685',\n",
       " '서울특별시 강동구 고덕동 670',\n",
       " '17~35층  51개동 총3658가구',\n",
       " '2017년 01월 05일',\n",
       " '개별난방',\n",
       " '삼성물산',\n",
       " '2014년 분양한 고덕래미안힐스트이트(고덕시영 재건축) 중 조합원 미계약 세대. 전매제한 1년./']"
      ]
     },
     "metadata": {},
     "output_type": "display_data"
    },
    {
     "data": {
      "text/plain": [
       "['53684',\n",
       " '경기도 남양주시 진건읍 진건지구 C3블록',\n",
       " '22~29층  5개동 총467가구',\n",
       " '2017년 12월',\n",
       " '개별난방',\n",
       " '현대산업개발',\n",
       " '다산진건공공주택지구/다산신도시 진건보금자리지구. 분양가상한제 & 전매제한(1년) 적용./']"
      ]
     },
     "metadata": {},
     "output_type": "display_data"
    },
    {
     "data": {
      "text/plain": [
       "['53377',\n",
       " '경기도 수원시 호매실동 호매실지구 B3블록',\n",
       " '18~25층  13개동 임대 총1300가구',\n",
       " '99A㎡(194가구),111A㎡(77가구),111B㎡(125가구),111C㎡(98가구),111D㎡(806가구)',\n",
       " '10년',\n",
       " '2017년 12월',\n",
       " '지역난방',\n",
       " 'LH',\n",
       " '2027년 12월',\n",
       " '호매실공공주택지구']"
      ]
     },
     "metadata": {},
     "output_type": "display_data"
    },
    {
     "data": {
      "text/plain": [
       "['53741',\n",
       " '경기도 화성시 남양읍 화성 남양뉴타운 도시개발구역 A3블록',\n",
       " '15~25층  6개동 총876가구',\n",
       " '42A㎡(213가구),58B㎡(39가구),74A㎡(150가구)',\n",
       " '2016년 06월 24일',\n",
       " '지역난방',\n",
       " 'LH',\n",
       " '화성 남양/']"
      ]
     },
     "metadata": {},
     "output_type": "display_data"
    },
    {
     "data": {
      "text/plain": [
       "['53363',\n",
       " '경기도 부천시 옥길동 부천옥길보금자리지구 A1블록',\n",
       " '8~28층  8개동 임대 총916가구',\n",
       " '47A㎡(310가구),46A㎡(43가구),47B㎡(48가구),56A㎡(104가구),56A㎡(193가구),56B㎡(23가구),58C㎡(33가구),72C㎡(24가구),72A㎡(20가구),72B㎡(14가구),73B㎡(54가구),73D㎡(6가구),87A㎡(44가구)',\n",
       " '30년',\n",
       " '2016년 10월 27일',\n",
       " '지역난방',\n",
       " 'LH',\n",
       " '2046년 10월',\n",
       " '옥길지구/']"
      ]
     },
     "metadata": {},
     "output_type": "display_data"
    },
    {
     "data": {
      "text/plain": [
       "['53739',\n",
       " '서울특별시 서초구 반포동 30-20 (삼호가든4차 재건축)',\n",
       " '11~35층  8개동 총751가구',\n",
       " '2018년 03월',\n",
       " '개별난방',\n",
       " '대우건설',\n",
       " '용적률:299.94% / 건폐율:19.31%',\n",
       " '전매제한(6개월)/']"
      ]
     },
     "metadata": {},
     "output_type": "display_data"
    },
    {
     "data": {
      "text/plain": [
       "['50982',\n",
       " '경기도 평택시 장당동 463',\n",
       " '14~24층  7개동 총448가구',\n",
       " '2018년 02월',\n",
       " '개별난방',\n",
       " '제일건설',\n",
       " '민간택지(분양가상한제 미적용). 전매제한 6개월/']"
      ]
     },
     "metadata": {},
     "output_type": "display_data"
    },
    {
     "data": {
      "text/plain": [
       "['53542',\n",
       " '경기도 화성시 남양읍 남양뉴타운 B4블록',\n",
       " '30~36층  8개동 총673가구',\n",
       " '2018년 05월',\n",
       " '지역난방',\n",
       " '동광건설',\n",
       " '화성 남양/분양가상한제 적용. 전매제한(1년)/']"
      ]
     },
     "metadata": {},
     "output_type": "display_data"
    },
    {
     "data": {
      "text/plain": [
       "['53595',\n",
       " '경기도 화성시 능동 625',\n",
       " '11~21층  11개동 총982가구',\n",
       " '2018년 01월',\n",
       " '개별난방',\n",
       " 'GS건설',\n",
       " '화성능동지구/민간택지. 전매제한(6개월). 분양가상한제 적용안됨/']"
      ]
     },
     "metadata": {},
     "output_type": "display_data"
    },
    {
     "data": {
      "text/plain": [
       "['53391',\n",
       " '인천광역시 남동구 서창동 인천서창2지구 2블록',\n",
       " '18~25층  12개동 임대 총1228가구',\n",
       " '85A㎡(1063가구),85B㎡(165가구)',\n",
       " '10년',\n",
       " '2017년 12월 29일',\n",
       " '개별난방',\n",
       " 'LH',\n",
       " '2027년 12월',\n",
       " '서창2 공공주택지구']"
      ]
     },
     "metadata": {},
     "output_type": "display_data"
    },
    {
     "data": {
      "text/plain": [
       "['53354',\n",
       " '경기도 구리시 갈매동 구리갈매보금자리지구 B3블록',\n",
       " '19~25층  5개동 총382가구',\n",
       " '2017년 12월 02일',\n",
       " '지역난방',\n",
       " 'LH',\n",
       " '구리갈매 공공주택지구/구리갈매보금자리지구. 분양가상한제 및 전매제한(1년) 적용. 사전예약144가구(74m2/46가구,84m2/98가구)/']"
      ]
     },
     "metadata": {},
     "output_type": "display_data"
    },
    {
     "data": {
      "text/plain": [
       "['53492',\n",
       " '경기도 광주시 오포읍 문형리 601',\n",
       " '23층  15개동 총1028가구',\n",
       " '2018년 06월',\n",
       " '개별난방',\n",
       " '양우건설',\n",
       " '용적률:193.1% / 건폐율:18.8%',\n",
       " '지역조합아파트. 일반분양 388가구/']"
      ]
     },
     "metadata": {},
     "output_type": "display_data"
    },
    {
     "data": {
      "text/plain": [
       "['53628',\n",
       " '경기도 남양주시 별내동 919 (별내택지개발지구 B2블록)',\n",
       " '4층  18개동 총307가구',\n",
       " '2017년 03월 31일',\n",
       " '개별난방',\n",
       " '진흥기업, 효성',\n",
       " '건폐율:36.15%',\n",
       " '별내택지개발지구']"
      ]
     },
     "metadata": {},
     "output_type": "display_data"
    },
    {
     "data": {
      "text/plain": [
       "['51598',\n",
       " '경기도 남양주시 진건읍 다산진건지구 B6블록',\n",
       " '23~30층  11개동 총1085가구',\n",
       " '2018년 03월',\n",
       " '개별난방',\n",
       " '반도건설',\n",
       " '다산진건공공주택지구/진건보금자리지구(공공택지) 분양가상한제 적용. 전매제한(1년)/']"
      ]
     },
     "metadata": {},
     "output_type": "display_data"
    },
    {
     "data": {
      "text/plain": [
       "['53721',\n",
       " '서울특별시 강남구 청담동 67 (진흥빌라 재건축)',\n",
       " '1~7층  5개동 총114가구',\n",
       " '2017년 08월 31일',\n",
       " '지역난방',\n",
       " '코오롱글로벌',\n",
       " '청담 진흥빌라 재건축. 전매제한(6개월)/']"
      ]
     },
     "metadata": {},
     "output_type": "display_data"
    },
    {
     "data": {
      "text/plain": [
       "['53734',\n",
       " '인천광역시 서구 가좌동 308(가좌주공2 재건축)',\n",
       " '8~27층  16개동 총1757가구',\n",
       " '2018년 02월',\n",
       " '개별난방',\n",
       " '두산건설',\n",
       " '가좌주공2단지 재건축. 총 1,757가구(일반분양 785가구, 조합원분양 972가구)/']"
      ]
     },
     "metadata": {},
     "output_type": "display_data"
    },
    {
     "data": {
      "text/plain": [
       "['53389',\n",
       " '경기도 시흥시 조남동 422(시흥목감 A4블록)',\n",
       " '21~25층  4개동 임대 총413가구',\n",
       " '75A㎡(131가구),75B㎡(66가구),87A㎡(195가구),87B㎡(21가구)',\n",
       " '10년',\n",
       " '2017년 12월 21일',\n",
       " '지역난방',\n",
       " 'LH',\n",
       " '2027년 12월',\n",
       " '시흥목감 공공주택지구/']"
      ]
     },
     "metadata": {},
     "output_type": "display_data"
    },
    {
     "data": {
      "text/plain": [
       "['53355',\n",
       " '경기도 하남시 망월동 하남미사지구 A20블록',\n",
       " '19~27층  6개동 총655가구',\n",
       " '2018년 02월',\n",
       " '지역난방',\n",
       " 'LH',\n",
       " '미사보금자리지구/공공택지.분양가상한제 및 전매제한(1년). 총 655가구(일반분양 17가구/사전예약 638가구) 10월22일 오후9시 이후 사전예약 미계약분에 대한 추가모집분 공고예정/']"
      ]
     },
     "metadata": {},
     "output_type": "display_data"
    },
    {
     "data": {
      "text/plain": [
       "['53425',\n",
       " '인천광역시 연수구 송도동 397-11 (송도국제도시 6,8공구 A11블록)',\n",
       " '17~36층  9개동 총886가구',\n",
       " '2019년 06월',\n",
       " '개별난방',\n",
       " '현대건설',\n",
       " '송도국제도시']"
      ]
     },
     "metadata": {},
     "output_type": "display_data"
    },
    {
     "data": {
      "text/plain": [
       "['43334',\n",
       " '서울특별시 동대문구 답십리동 98(답십리 18구역)',\n",
       " '21층  12개동 총1009가구',\n",
       " '82A㎡(172가구)',\n",
       " '2018년 05월',\n",
       " '개별난방',\n",
       " '삼성물산',\n",
       " '전농,답십리']"
      ]
     },
     "metadata": {},
     "output_type": "display_data"
    },
    {
     "data": {
      "text/plain": [
       "['43332',\n",
       " '서울특별시 서초구 서초동 1331-1(서초우성2차 재건축)',\n",
       " '32층  5개동 총593가구',\n",
       " '2018년 01월',\n",
       " '개별난방',\n",
       " '삼성물산',\n",
       " '전매제한(6개월)/']"
      ]
     },
     "metadata": {},
     "output_type": "display_data"
    },
    {
     "data": {
      "text/plain": [
       "['53524',\n",
       " '서울특별시 양천구 신정동 831',\n",
       " '18~19층  2개동 총140가구',\n",
       " '2016년 08월 15일',\n",
       " '지역난방',\n",
       " 'SH공사',\n",
       " '신정4보금자리지구/전매제한:4년(전용74m2)~5년(전용84m2), 입주의무기간:90일, 거주의무기간:1년(전용84m2)~2년(전용74m2) 신정4보금자리지구(공공분양)/']"
      ]
     },
     "metadata": {},
     "output_type": "display_data"
    },
    {
     "data": {
      "text/plain": [
       "['53433',\n",
       " '서울특별시 은평구 진관동 66-13(은평뉴타운 상업용지 4블록)',\n",
       " '20층  2개동 총142가구',\n",
       " '2018년 04월',\n",
       " '개별난방',\n",
       " '한화건설',\n",
       " '은평']"
      ]
     },
     "metadata": {},
     "output_type": "display_data"
    },
    {
     "data": {
      "text/plain": [
       "['53318',\n",
       " '경기도 평택시 비전동 소사벌지구 B10블록',\n",
       " '22~25층  9개동 총761가구',\n",
       " '2017년 11월',\n",
       " '개별난방',\n",
       " '우미건설',\n",
       " '소사벌택지개발지구']"
      ]
     },
     "metadata": {},
     "output_type": "display_data"
    },
    {
     "data": {
      "text/plain": [
       "['53761',\n",
       " '경기도 평택시 안중읍 송담리 664(송담택지지구 79블록 1로트)',\n",
       " '20~27층  10개동 총707가구',\n",
       " '2018년 05월',\n",
       " '개별난방',\n",
       " '문장건설']"
      ]
     },
     "metadata": {},
     "output_type": "display_data"
    },
    {
     "data": {
      "text/plain": [
       "['53762',\n",
       " '경기도 평택시 안중읍 송담택지지구 80블록 2로트',\n",
       " '24~27층  5개동 총366가구',\n",
       " '2018년 05월',\n",
       " '개별난방',\n",
       " '문장건설',\n",
       " '송담택지개발지구/']"
      ]
     },
     "metadata": {},
     "output_type": "display_data"
    },
    {
     "data": {
      "text/plain": [
       "['53788',\n",
       " '인천광역시 서구 가정동 가정지구 6블록',\n",
       " '24~25층  16개동 총1598가구',\n",
       " '2018년 05월',\n",
       " '개별난방',\n",
       " 'CITY건설',\n",
       " '건폐율:15.96%',\n",
       " '가정공공주택지구/공공택지지구. 분양가상한제 및 전매제한(1년) 적용/']"
      ]
     },
     "metadata": {},
     "output_type": "display_data"
    },
    {
     "data": {
      "text/plain": [
       "['53329',\n",
       " '인천광역시 서구 가정동 120-50(가정지구 B5블록)',\n",
       " '24~25층  10개동 총662가구',\n",
       " '2018년 02월',\n",
       " '개별난방',\n",
       " '호반건설',\n",
       " '가정공공주택지구/분양가상한제 및 전매제한(1년) 적용단지. 인천 청라지구(서쪽), 루원시티(동족)와 연접개발. 인천도시철도 2호선 가정오거리역(예정), 서인천 IC 연결 도로, 인천공항 고속도로 등이 가까워 서울 접근성 및 광역 교통망이 우수한편.\\r보금자리지구 내 민영주택. 전매제한(1년) 및 분양가상한제 적용/']"
      ]
     },
     "metadata": {},
     "output_type": "display_data"
    },
    {
     "data": {
      "text/plain": [
       "['53547',\n",
       " '경기도 광주시 쌍령동 산54-1',\n",
       " '14~20층  18개동 총1425가구',\n",
       " '2018년 04월',\n",
       " '개별난방',\n",
       " '대우건설',\n",
       " '분양가상한제 미적용. 전매제한 6개월/']"
      ]
     },
     "metadata": {},
     "output_type": "display_data"
    },
    {
     "data": {
      "text/plain": [
       "['53415',\n",
       " '경기도 오산시 내삼미동 895(오산세교택지개발지구 B5블록)',\n",
       " '15~25층  14개동 총1110가구',\n",
       " '2018년 01월',\n",
       " '개별난방',\n",
       " 'GS건설',\n",
       " '오산세교택지개발지구/공공택지. 분양가상한제 및 전매제한(1년) 적용/']"
      ]
     },
     "metadata": {},
     "output_type": "display_data"
    },
    {
     "data": {
      "text/plain": [
       "['53795',\n",
       " '경기도 용인시 남사면 완장리 858-1(용인남사도시개발사업구 5블록)',\n",
       " '29층  21개동 총2336가구',\n",
       " '2018년 06월',\n",
       " '개별난방',\n",
       " '대림산업',\n",
       " '남사도시개발구역/전매제한(6개월)/']"
      ]
     },
     "metadata": {},
     "output_type": "display_data"
    },
    {
     "data": {
      "text/plain": [
       "['53654',\n",
       " '경기도 용인시 영덕동 산112',\n",
       " '22~26층  17개동 총1679가구',\n",
       " '2018년 12월',\n",
       " '개별난방',\n",
       " '효성',\n",
       " '용적률:199.52%',\n",
       " '민간택지(분양가상한제 미적용).전매제한 6개월/']"
      ]
     },
     "metadata": {},
     "output_type": "display_data"
    },
    {
     "data": {
      "text/plain": [
       "['53717',\n",
       " '인천광역시 서구 경서동 954-13(청라국제도시 M1블록)',\n",
       " '18~37층  6개동 총1163가구',\n",
       " '2018년 10월',\n",
       " '개별난방',\n",
       " '아이에스동서',\n",
       " '건폐율:21.04%',\n",
       " '청라국제도시']"
      ]
     },
     "metadata": {},
     "output_type": "display_data"
    },
    {
     "data": {
      "text/plain": [
       "['53356',\n",
       " '경기도 시흥시 은행동 시흥은계보금자리지구 S1블록',\n",
       " '13~20층  11개동 총1025가구',\n",
       " '2017년 12월',\n",
       " '개별난방',\n",
       " 'LH',\n",
       " '건폐율:18.92%',\n",
       " '시흥은계 공공주택지구/공공택지. 분양가상한제 및 전매제한(1년) 적용. 2010년 사전예약 94세대 접수. 본청약(2015년 10월)에서는 931세대 모집/']"
      ]
     },
     "metadata": {},
     "output_type": "display_data"
    },
    {
     "name": "stdout",
     "output_type": "stream",
     "text": [
      "Program Finised\n"
     ]
    }
   ],
   "source": [
    "# DB Connection Open\n",
    "#con = get_db_connection()\n",
    "\n",
    "# \n",
    "df = apt_sell_info('201510')\n",
    "\n",
    "for no in df['apt_no'] :\n",
    "    apt_basic_info(no)\n",
    "\n",
    "# DB Connection Close\n",
    "#disconnect_db(con)\n",
    "\n",
    "print('Program Finised')"
   ]
  },
  {
   "cell_type": "code",
   "execution_count": null,
   "metadata": {
    "collapsed": true
   },
   "outputs": [],
   "source": []
  },
  {
   "cell_type": "code",
   "execution_count": null,
   "metadata": {
    "collapsed": true
   },
   "outputs": [],
   "source": []
  }
 ],
 "metadata": {
  "kernelspec": {
   "display_name": "Python 3",
   "language": "python",
   "name": "python3"
  },
  "language_info": {
   "codemirror_mode": {
    "name": "ipython",
    "version": 3
   },
   "file_extension": ".py",
   "mimetype": "text/x-python",
   "name": "python",
   "nbconvert_exporter": "python",
   "pygments_lexer": "ipython3",
   "version": "3.4.3"
  }
 },
 "nbformat": 4,
 "nbformat_minor": 2
}
