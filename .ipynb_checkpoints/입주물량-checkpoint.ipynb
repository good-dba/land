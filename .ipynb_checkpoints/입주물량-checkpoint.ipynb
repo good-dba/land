{
 "cells": [
  {
   "cell_type": "code",
   "execution_count": 293,
   "metadata": {},
   "outputs": [],
   "source": [
    "from LandBase import *\n",
    "\n",
    "# 주피터노트북 매직커맨드 혹은 매직키워드\n",
    "# 구글에서 찾을 때는 \"jupyter notebook Built-in magic commands\"라고 찾으면 수월함\n",
    "# %lsmagic : 사용 가능한 매직커맨드 목록\n",
    "# %quickref : 사용 가능한 매직커맨드 목록과 설명 (quick reference)\n",
    "# %prun : 주피터노트북에서 실행된 내용의 퍼포먼스 측정\n",
    "# %time : 주피터노트북에서 실행된 내용의 시간 측정\n",
    "# %pdb : 디버깅 목적으로 오류가 발생하면 그 위치에서 멈추게 함\n",
    "# %load_ext : 외부 플러그인 가져오기\n",
    "\n",
    "def apt_sell_info(con, p_ym='201510') :\n",
    "    ####\n",
    "    # 분양정보목록\n",
    "    # 출처: http://www.drapt.com/e_sale/index.htm?page_name=cal&menu_key=0&item=3&view_type=month&today_date=년-월\n",
    "    # 테이블: drapt_move_basic\n",
    "    ####\n",
    "    \n",
    "    r_list = []\n",
    "    url = 'http://www.drapt.com/e_sale/index.htm?page_name=cal&menu_key=0&item=3&view_type=month&today_date=' + p_ym[:4] + '-' + p_ym[4:]\n",
    "    \n",
    "    r = requests.get(url)\n",
    "    soup = BeautifulSoup(r.text, 'lxml') # bs4.BeautifulSoup 타입\n",
    "    # bs4.BeautifulSoup 타입에서 find 혹은 find_all만 한 결과는 bs4.element.ResultSet 타입이다.\n",
    "    # soup.find_all('table', 'esale_cal_table3') = soup.find_all('table', class_='esale_cal_table3')\n",
    "    # soup.find_all('table', class_='esale_cal_table3') : table 태그 중에서 class가 esale_cal_table3인 경우를 모두 찾음, bs4.element.ResultSet 타입\n",
    "    # soup.find('table', 'esale_cal_table3').find_all('tr') : 위에서 찾은 결과에서 tr 태그를 가진 값 모두 찾음, bs4.element.ResultSet 타입\n",
    "    for tr in soup.find('table', class_='esale_cal_table3').find_all('tr') :\n",
    "        # tr.find('th').find('span', 'td_date').find('strong') : 위에 찾은 결과에서 th 태그 -> span태그 & class가 td_date이고 -> strong 태그\n",
    "        # tr.find('th').find('span', 'td_date').find('strong').string : 위 결과에서 문자열로 된 값만 추출, bs4.element.NavigableString 타입, 여기서는 필요없으므로 안 찾음\n",
    "        for li in tr.find_all('li', class_=False) :\n",
    "            분양유형 = '민간분양'\n",
    "            형태 = li.find('span').string.strip('[]')\n",
    "            if 형태 == '오피스텔' : \n",
    "                continue # 오피스텔은 건너뛰기\n",
    "            apt_no = re.findall('\\d+', li.find('a')['href'])[0]\n",
    "            r_dict = apt_basic_info(apt_no) # 단지 기본정보 함수 호출\n",
    "            if '입주시기' not in r_dict.keys() : # 입주시기가 없으면 3년 후로 입주시기 설정\n",
    "                r_dict['입주시기'] = str(int(p_ym[:4])+3) + p_ym[4:]\n",
    "            if '특징' not in r_dict.keys() :\n",
    "                r_dict['특징'] = ''\n",
    "            \n",
    "            r_list.append([p_ym, r_dict['입주시기'], 분양유형, 형태, apt_no, r_dict['단지이름'], r_dict['주소'], r_dict['동수'], r_dict['가구수'], r_dict['최고층'], r_dict['특징']])\n",
    "    \n",
    "    df = pd.DataFrame(r_list, columns=['sell_ym', 'move_ym', 'sell_type', 'apt_type', 'apt_no', 'apt_nm', 'address', 'building_cnt', 'house_cnt', 'top_floor', 'characteristics'])\n",
    "    df = df[ (df['address'].str.startswith('서울')) | (df['address'].str.startswith('인천')) | (df['address'].str.startswith('경기')) ]\n",
    "    df.drop_duplicates(inplace=True)\n",
    "    display(df)\n",
    "\n",
    "    # DB처리\n",
    "    table_name = 'drapt_move_basic'\n",
    "    sql = 'delete from ' + table_name + ' where sell_ym = \\'' + p_ym + '\\'';\n",
    "    con.execute(sql)\n",
    "    df.to_sql(name=table_name, con=con, if_exists='append', index=False, chunksize=1000)\n",
    "\n",
    "    return df\n",
    "    \n",
    "def apt_basic_info(p_no='39801') :\n",
    "    ####\n",
    "    # 단지이름: http://www.drapt.com/sise/html_view5/?no=단지번호\n",
    "    # 단지기본 정보 출처: http://www.drapt.com/sise/html_view5/total.php?no=단지번호\n",
    "    # 정보: 최고층, 동수, 가구수, 입주시기, 주소, 특징\n",
    "    ####\n",
    "\n",
    "    r_dict = {}\n",
    "    r_dict['no'] = p_no\n",
    "    \n",
    "    # 단지이름만 추출하기 위해서 url 방문\n",
    "    url = 'http://www.drapt.com/sise/html_view5/?no=' + p_no\n",
    "    r = requests.get(url)\n",
    "    soup = BeautifulSoup(r.text, 'lxml') # bs4.BeautifulSoup 타입\n",
    "    r_dict['단지이름'] = soup.find('h1').find('span').text\n",
    "    \n",
    "    # 단지기본 정보\n",
    "    url = 'http://www.drapt.com/sise/html_view5/total.php?no=' + p_no\n",
    "\n",
    "    r = requests.get(url)\n",
    "    soup = BeautifulSoup(r.text, 'lxml') # bs4.BeautifulSoup 타입\n",
    "    \n",
    "    for tr in soup.find('table').find_all('tr') :\n",
    "        th = tr.find_all('th')\n",
    "        td = tr.find_all('td')\n",
    "        for i in range(len(th)) :\n",
    "            th_str = th[i].string.replace('\\n', '').strip()\n",
    "            td_str = td[i].contents[0].string.replace('\\n', '').strip()\n",
    "            if th_str == '단지규모' :\n",
    "                if '층' in td_str :\n",
    "                    r_dict['최고층'] = re.findall('\\d+층', td_str)[0].replace('층','')\n",
    "                else :\n",
    "                    r_dict['최고층'] = '0'\n",
    "                if '개동' in td_str :\n",
    "                    r_dict['동수'] = re.findall('\\d+개동', td_str)[0].replace('개동','')\n",
    "                else :\n",
    "                    r_dict['동수'] = '0'\n",
    "                if '가구' in td_str :\n",
    "                    r_dict['가구수'] = re.findall('총\\d+가구', td_str)[0].replace('총','').replace('가구','')\n",
    "                else :\n",
    "                    r_dict['가구수'] = '0'\n",
    "            elif th_str == '입주시기' :\n",
    "                r_dict[th_str] = td_str.replace('년', '').replace('월', '').replace(' ', '')[:6]\n",
    "            elif th_str in ['주소', '특징'] :\n",
    "                r_dict[th_str] = td_str\n",
    "    \n",
    "    return r_dict\n",
    "\n",
    "def apt_size_info(con, p_ym='201510', p_no='53685') :\n",
    "    ####\n",
    "    # 단지면적 정보\n",
    "    # 출처: http://www.drapt.com/sise/html_view5/size_info.php?no=53685\n",
    "    # 정보: 공급면적, 전용면적, 방/욕실, 가구수(임대)\n",
    "    # 테이블: drapt_move_size\n",
    "    ####\n",
    "    \n",
    "    url = 'http://www.drapt.com/sise/html_view5/size_info.php?no=' + p_no\n",
    "\n",
    "    fr_list = []\n",
    "    r = requests.get(url)\n",
    "    soup = BeautifulSoup(r.text, 'lxml') # bs4.BeautifulSoup 타입\n",
    "    \n",
    "    for tr in soup.find('table').find_all('tr') :\n",
    "        r_list = []\n",
    "        td = tr.find_all('td')\n",
    "        if len(td) == 0 :\n",
    "            continue\n",
    "        r_list.append(p_ym)\n",
    "        r_list.append(p_no)\n",
    "        r_list.append(str(td[0].find('a', class_='area_big').contents[0])) # 공급면적\n",
    "        r_list.append(td[1].find('span').contents[0].replace('㎡','')) # 전용면적\n",
    "        r_list.append(td[5].string.split('/')[0]) # 방\n",
    "        r_list.append(td[5].string.split('/')[1]) # 욕실\n",
    "        house_cnt = rent_house_cnt = td[6].find('span').contents[0]\n",
    "        house_cnt = house_cnt.split('(')[0]\n",
    "        if len(house_cnt) == 0 :\n",
    "            house_cnt = 0\n",
    "        else :\n",
    "            house_cnt = int(house_cnt)\n",
    "        if len(rent_house_cnt.split('(')) == 1 : # 임대가구수가 없는 경우\n",
    "            rent_house_cnt = '0' # 임대가구수\n",
    "        else:\n",
    "            rent_house_cnt = rent_house_cnt.split('(')[1].replace(')','') # 임대가구수\n",
    "        r_list.append(house_cnt) # 일반가구수\n",
    "        r_list.append(rent_house_cnt) # 임대가구수\n",
    "        \n",
    "        fr_list.append(r_list)\n",
    "    \n",
    "    df = pd.DataFrame(fr_list, columns=['sell_ym', 'apt_no', 'supply_area', 'priv_area', 'room_cnt', 'bath_cnt', 'house_cnt', 'rent_house_cnt'])\n",
    "\n",
    "    # DB처리\n",
    "    table_name = 'drapt_move_size'\n",
    "    sql = 'delete from ' + table_name + ' where sell_ym = \\'' + p_ym + '\\' and apt_no = ' + p_no;\n",
    "    con.execute(sql)\n",
    "    df.to_sql(name=table_name, con=con, if_exists='append', index=False, chunksize=1000)\n"
   ]
  },
  {
   "cell_type": "code",
   "execution_count": 294,
   "metadata": {
    "scrolled": false
   },
   "outputs": [
    {
     "name": "stdout",
     "output_type": "stream",
     "text": [
      "201301\n",
      "42645\n"
     ]
    },
    {
     "data": {
      "text/plain": [
       "{'no': '42645',\n",
       " '가구수': '237',\n",
       " '단지이름': '세청파크빌',\n",
       " '동수': '0',\n",
       " '입주시기': '201303',\n",
       " '주소': '충청남도 홍성군 금마면 죽림리 82-15',\n",
       " '최고층': '0'}"
      ]
     },
     "metadata": {},
     "output_type": "display_data"
    },
    {
     "name": "stdout",
     "output_type": "stream",
     "text": [
      "42645\n"
     ]
    },
    {
     "data": {
      "text/plain": [
       "{'no': '42645',\n",
       " '가구수': '237',\n",
       " '단지이름': '세청파크빌',\n",
       " '동수': '0',\n",
       " '입주시기': '201303',\n",
       " '주소': '충청남도 홍성군 금마면 죽림리 82-15',\n",
       " '최고층': '0'}"
      ]
     },
     "metadata": {},
     "output_type": "display_data"
    },
    {
     "name": "stdout",
     "output_type": "stream",
     "text": [
      "40161\n"
     ]
    },
    {
     "data": {
      "text/plain": [
       "{'no': '40161',\n",
       " '가구수': '271',\n",
       " '단지이름': '인천간석 휴먼시아(1블록)',\n",
       " '동수': '3',\n",
       " '입주시기': '201411',\n",
       " '주소': '인천광역시 남동구 간석동 224',\n",
       " '최고층': '38',\n",
       " '특징': '간석주거환경개선사업지구'}"
      ]
     },
     "metadata": {},
     "output_type": "display_data"
    },
    {
     "name": "stdout",
     "output_type": "stream",
     "text": [
      "40163\n"
     ]
    },
    {
     "data": {
      "text/plain": [
       "{'no': '40163',\n",
       " '가구수': '792',\n",
       " '단지이름': '인천간석 휴먼시아(2블록)',\n",
       " '동수': '10',\n",
       " '입주시기': '201411',\n",
       " '주소': '인천광역시 남동구 간석동 224',\n",
       " '최고층': '28',\n",
       " '특징': '간석주거환경개선사업지구'}"
      ]
     },
     "metadata": {},
     "output_type": "display_data"
    },
    {
     "name": "stdout",
     "output_type": "stream",
     "text": [
      "40161\n"
     ]
    },
    {
     "data": {
      "text/plain": [
       "{'no': '40161',\n",
       " '가구수': '271',\n",
       " '단지이름': '인천간석 휴먼시아(1블록)',\n",
       " '동수': '3',\n",
       " '입주시기': '201411',\n",
       " '주소': '인천광역시 남동구 간석동 224',\n",
       " '최고층': '38',\n",
       " '특징': '간석주거환경개선사업지구'}"
      ]
     },
     "metadata": {},
     "output_type": "display_data"
    },
    {
     "name": "stdout",
     "output_type": "stream",
     "text": [
      "40163\n"
     ]
    },
    {
     "data": {
      "text/plain": [
       "{'no': '40163',\n",
       " '가구수': '792',\n",
       " '단지이름': '인천간석 휴먼시아(2블록)',\n",
       " '동수': '10',\n",
       " '입주시기': '201411',\n",
       " '주소': '인천광역시 남동구 간석동 224',\n",
       " '최고층': '28',\n",
       " '특징': '간석주거환경개선사업지구'}"
      ]
     },
     "metadata": {},
     "output_type": "display_data"
    },
    {
     "name": "stdout",
     "output_type": "stream",
     "text": [
      "40161\n"
     ]
    },
    {
     "data": {
      "text/plain": [
       "{'no': '40161',\n",
       " '가구수': '271',\n",
       " '단지이름': '인천간석 휴먼시아(1블록)',\n",
       " '동수': '3',\n",
       " '입주시기': '201411',\n",
       " '주소': '인천광역시 남동구 간석동 224',\n",
       " '최고층': '38',\n",
       " '특징': '간석주거환경개선사업지구'}"
      ]
     },
     "metadata": {},
     "output_type": "display_data"
    },
    {
     "name": "stdout",
     "output_type": "stream",
     "text": [
      "40163\n"
     ]
    },
    {
     "data": {
      "text/plain": [
       "{'no': '40163',\n",
       " '가구수': '792',\n",
       " '단지이름': '인천간석 휴먼시아(2블록)',\n",
       " '동수': '10',\n",
       " '입주시기': '201411',\n",
       " '주소': '인천광역시 남동구 간석동 224',\n",
       " '최고층': '28',\n",
       " '특징': '간석주거환경개선사업지구'}"
      ]
     },
     "metadata": {},
     "output_type": "display_data"
    },
    {
     "name": "stdout",
     "output_type": "stream",
     "text": [
      "42647\n"
     ]
    },
    {
     "data": {
      "text/plain": [
       "{'no': '42647',\n",
       " '가구수': '125',\n",
       " '단지이름': '응암 아네스트3차(도시형)',\n",
       " '동수': '1',\n",
       " '입주시기': '201412',\n",
       " '주소': '서울특별시 은평구 응암동 88-8',\n",
       " '최고층': '16'}"
      ]
     },
     "metadata": {},
     "output_type": "display_data"
    },
    {
     "name": "stdout",
     "output_type": "stream",
     "text": [
      "40161\n"
     ]
    },
    {
     "data": {
      "text/plain": [
       "{'no': '40161',\n",
       " '가구수': '271',\n",
       " '단지이름': '인천간석 휴먼시아(1블록)',\n",
       " '동수': '3',\n",
       " '입주시기': '201411',\n",
       " '주소': '인천광역시 남동구 간석동 224',\n",
       " '최고층': '38',\n",
       " '특징': '간석주거환경개선사업지구'}"
      ]
     },
     "metadata": {},
     "output_type": "display_data"
    },
    {
     "name": "stdout",
     "output_type": "stream",
     "text": [
      "40163\n"
     ]
    },
    {
     "data": {
      "text/plain": [
       "{'no': '40163',\n",
       " '가구수': '792',\n",
       " '단지이름': '인천간석 휴먼시아(2블록)',\n",
       " '동수': '10',\n",
       " '입주시기': '201411',\n",
       " '주소': '인천광역시 남동구 간석동 224',\n",
       " '최고층': '28',\n",
       " '특징': '간석주거환경개선사업지구'}"
      ]
     },
     "metadata": {},
     "output_type": "display_data"
    },
    {
     "name": "stdout",
     "output_type": "stream",
     "text": [
      "42150\n"
     ]
    },
    {
     "data": {
      "text/plain": [
       "{'no': '42150',\n",
       " '가구수': '1088',\n",
       " '단지이름': '대구금호 A-1(국민임대)',\n",
       " '동수': '8',\n",
       " '입주시기': '201410',\n",
       " '주소': '대구광역시 북구 금호동 금호지구 A-1블록',\n",
       " '최고층': '24'}"
      ]
     },
     "metadata": {},
     "output_type": "display_data"
    },
    {
     "name": "stdout",
     "output_type": "stream",
     "text": [
      "42652\n"
     ]
    },
    {
     "data": {
      "text/plain": [
       "{'no': '42652',\n",
       " '가구수': '52',\n",
       " '단지이름': '백산그랜드',\n",
       " '동수': '1',\n",
       " '입주시기': '201301',\n",
       " '주소': '경상북도 영주시 풍기읍 성내리 240-2',\n",
       " '최고층': '15',\n",
       " '특징': '6층이하 분양가 18,500만원/'}"
      ]
     },
     "metadata": {},
     "output_type": "display_data"
    },
    {
     "name": "stdout",
     "output_type": "stream",
     "text": [
      "41926\n"
     ]
    },
    {
     "data": {
      "text/plain": [
       "{'no': '41926',\n",
       " '가구수': '849',\n",
       " '단지이름': '중흥S-클래스 리버티(민간임대)',\n",
       " '동수': '12',\n",
       " '입주시기': '201507',\n",
       " '주소': '광주광역시 광산구 우산동 1357',\n",
       " '최고층': '20'}"
      ]
     },
     "metadata": {},
     "output_type": "display_data"
    },
    {
     "name": "stdout",
     "output_type": "stream",
     "text": [
      "42652\n"
     ]
    },
    {
     "data": {
      "text/plain": [
       "{'no': '42652',\n",
       " '가구수': '52',\n",
       " '단지이름': '백산그랜드',\n",
       " '동수': '1',\n",
       " '입주시기': '201301',\n",
       " '주소': '경상북도 영주시 풍기읍 성내리 240-2',\n",
       " '최고층': '15',\n",
       " '특징': '6층이하 분양가 18,500만원/'}"
      ]
     },
     "metadata": {},
     "output_type": "display_data"
    },
    {
     "name": "stdout",
     "output_type": "stream",
     "text": [
      "42653\n"
     ]
    },
    {
     "data": {
      "text/plain": [
       "{'no': '42653',\n",
       " '가구수': '50',\n",
       " '단지이름': '수피아',\n",
       " '동수': '0',\n",
       " '입주시기': '201302',\n",
       " '주소': '경상남도 창원시 양덕동 153-28',\n",
       " '최고층': '0'}"
      ]
     },
     "metadata": {},
     "output_type": "display_data"
    },
    {
     "name": "stdout",
     "output_type": "stream",
     "text": [
      "41926\n"
     ]
    },
    {
     "data": {
      "text/plain": [
       "{'no': '41926',\n",
       " '가구수': '849',\n",
       " '단지이름': '중흥S-클래스 리버티(민간임대)',\n",
       " '동수': '12',\n",
       " '입주시기': '201507',\n",
       " '주소': '광주광역시 광산구 우산동 1357',\n",
       " '최고층': '20'}"
      ]
     },
     "metadata": {},
     "output_type": "display_data"
    },
    {
     "name": "stdout",
     "output_type": "stream",
     "text": [
      "42653\n"
     ]
    },
    {
     "data": {
      "text/plain": [
       "{'no': '42653',\n",
       " '가구수': '50',\n",
       " '단지이름': '수피아',\n",
       " '동수': '0',\n",
       " '입주시기': '201302',\n",
       " '주소': '경상남도 창원시 양덕동 153-28',\n",
       " '최고층': '0'}"
      ]
     },
     "metadata": {},
     "output_type": "display_data"
    },
    {
     "name": "stdout",
     "output_type": "stream",
     "text": [
      "42398\n"
     ]
    },
    {
     "data": {
      "text/plain": [
       "{'no': '42398',\n",
       " '가구수': '298',\n",
       " '단지이름': '힐탑더블시티(도시형생활주택)',\n",
       " '동수': '2',\n",
       " '입주시기': '201506',\n",
       " '주소': '부산광역시 수영구 광안동 662-1',\n",
       " '최고층': '21'}"
      ]
     },
     "metadata": {},
     "output_type": "display_data"
    },
    {
     "name": "stdout",
     "output_type": "stream",
     "text": [
      "42518\n"
     ]
    },
    {
     "data": {
      "text/plain": [
       "{'no': '42518',\n",
       " '가구수': '310',\n",
       " '단지이름': '써미트',\n",
       " '동수': '5',\n",
       " '입주시기': '201407',\n",
       " '주소': '전라북도 전주시 동산동 671-4',\n",
       " '최고층': '20'}"
      ]
     },
     "metadata": {},
     "output_type": "display_data"
    },
    {
     "name": "stdout",
     "output_type": "stream",
     "text": [
      "42344\n"
     ]
    },
    {
     "data": {
      "text/plain": [
       "{'no': '42344',\n",
       " '가구수': '688',\n",
       " '단지이름': '세종시 호반베르디움 5차',\n",
       " '동수': '10',\n",
       " '입주시기': '201506',\n",
       " '주소': '세종특별자치시 고운동 고운동 1-1생활권 M4블록',\n",
       " '최고층': '25',\n",
       " '특징': '세종특별자치시'}"
      ]
     },
     "metadata": {},
     "output_type": "display_data"
    },
    {
     "name": "stdout",
     "output_type": "stream",
     "text": [
      "42518\n"
     ]
    },
    {
     "data": {
      "text/plain": [
       "{'no': '42518',\n",
       " '가구수': '310',\n",
       " '단지이름': '써미트',\n",
       " '동수': '5',\n",
       " '입주시기': '201407',\n",
       " '주소': '전라북도 전주시 동산동 671-4',\n",
       " '최고층': '20'}"
      ]
     },
     "metadata": {},
     "output_type": "display_data"
    },
    {
     "name": "stdout",
     "output_type": "stream",
     "text": [
      "42658\n"
     ]
    },
    {
     "data": {
      "text/plain": [
       "{'no': '42658',\n",
       " '가구수': '140',\n",
       " '단지이름': '인계미루(도시형)',\n",
       " '동수': '1',\n",
       " '입주시기': '201401',\n",
       " '주소': '경기도 수원시 인계동 1114-5',\n",
       " '최고층': '10'}"
      ]
     },
     "metadata": {},
     "output_type": "display_data"
    },
    {
     "name": "stdout",
     "output_type": "stream",
     "text": [
      "42661\n"
     ]
    },
    {
     "data": {
      "text/plain": [
       "{'no': '42661',\n",
       " '가구수': '74',\n",
       " '단지이름': '엘림샤인빌',\n",
       " '동수': '2',\n",
       " '입주시기': '201411',\n",
       " '주소': '전라북도 전주시 효자동2가 205',\n",
       " '최고층': '19'}"
      ]
     },
     "metadata": {},
     "output_type": "display_data"
    },
    {
     "name": "stdout",
     "output_type": "stream",
     "text": [
      "42661\n"
     ]
    },
    {
     "data": {
      "text/plain": [
       "{'no': '42661',\n",
       " '가구수': '74',\n",
       " '단지이름': '엘림샤인빌',\n",
       " '동수': '2',\n",
       " '입주시기': '201411',\n",
       " '주소': '전라북도 전주시 효자동2가 205',\n",
       " '최고층': '19'}"
      ]
     },
     "metadata": {},
     "output_type": "display_data"
    },
    {
     "name": "stdout",
     "output_type": "stream",
     "text": [
      "42344\n"
     ]
    },
    {
     "data": {
      "text/plain": [
       "{'no': '42344',\n",
       " '가구수': '688',\n",
       " '단지이름': '세종시 호반베르디움 5차',\n",
       " '동수': '10',\n",
       " '입주시기': '201506',\n",
       " '주소': '세종특별자치시 고운동 고운동 1-1생활권 M4블록',\n",
       " '최고층': '25',\n",
       " '특징': '세종특별자치시'}"
      ]
     },
     "metadata": {},
     "output_type": "display_data"
    },
    {
     "name": "stdout",
     "output_type": "stream",
     "text": [
      "42727\n"
     ]
    },
    {
     "data": {
      "text/plain": [
       "{'no': '42727',\n",
       " '가구수': '86',\n",
       " '단지이름': '범어역풀비체(도시형)',\n",
       " '동수': '1',\n",
       " '입주시기': '201411',\n",
       " '주소': '대구광역시 수성구 범어동 790-10',\n",
       " '최고층': '13'}"
      ]
     },
     "metadata": {},
     "output_type": "display_data"
    },
    {
     "name": "stdout",
     "output_type": "stream",
     "text": [
      "42174\n"
     ]
    },
    {
     "data": {
      "text/plain": [
       "{'no': '42174',\n",
       " '가구수': '370',\n",
       " '단지이름': 'LH강남힐스테이트(장기전세주택)',\n",
       " '동수': '1',\n",
       " '입주시기': '201506',\n",
       " '주소': '서울특별시 강남구 자곡동 강남보금자리지구 A5블록',\n",
       " '최고층': '12',\n",
       " '특징': '서울강남지구'}"
      ]
     },
     "metadata": {},
     "output_type": "display_data"
    },
    {
     "name": "stdout",
     "output_type": "stream",
     "text": [
      "42175\n"
     ]
    },
    {
     "data": {
      "text/plain": [
       "{'no': '42175',\n",
       " '가구수': '250',\n",
       " '단지이름': '서울서초 A3블록(장기전세주택)',\n",
       " '동수': '3',\n",
       " '입주시기': '201312',\n",
       " '주소': '서울특별시 서초구 우면동 서울서초지구 A3블록',\n",
       " '최고층': '25',\n",
       " '특징': '서울서초지구'}"
      ]
     },
     "metadata": {},
     "output_type": "display_data"
    },
    {
     "name": "stdout",
     "output_type": "stream",
     "text": [
      "42176\n"
     ]
    },
    {
     "data": {
      "text/plain": [
       "{'no': '42176',\n",
       " '가구수': '384',\n",
       " '단지이름': '고양원흥 A3블록(장기전세주택)',\n",
       " '동수': '4',\n",
       " '입주시기': '201505',\n",
       " '주소': '경기도 고양시 원흥동 고양원흥지구 A3블록',\n",
       " '최고층': '22',\n",
       " '특징': '원흥지구/303~306동/'}"
      ]
     },
     "metadata": {},
     "output_type": "display_data"
    },
    {
     "name": "stdout",
     "output_type": "stream",
     "text": [
      "42344\n"
     ]
    },
    {
     "data": {
      "text/plain": [
       "{'no': '42344',\n",
       " '가구수': '688',\n",
       " '단지이름': '세종시 호반베르디움 5차',\n",
       " '동수': '10',\n",
       " '입주시기': '201506',\n",
       " '주소': '세종특별자치시 고운동 고운동 1-1생활권 M4블록',\n",
       " '최고층': '25',\n",
       " '특징': '세종특별자치시'}"
      ]
     },
     "metadata": {},
     "output_type": "display_data"
    },
    {
     "name": "stdout",
     "output_type": "stream",
     "text": [
      "42344\n"
     ]
    },
    {
     "data": {
      "text/plain": [
       "{'no': '42344',\n",
       " '가구수': '688',\n",
       " '단지이름': '세종시 호반베르디움 5차',\n",
       " '동수': '10',\n",
       " '입주시기': '201506',\n",
       " '주소': '세종특별자치시 고운동 고운동 1-1생활권 M4블록',\n",
       " '최고층': '25',\n",
       " '특징': '세종특별자치시'}"
      ]
     },
     "metadata": {},
     "output_type": "display_data"
    },
    {
     "data": {
      "text/html": [
       "<div>\n",
       "<style>\n",
       "    .dataframe thead tr:only-child th {\n",
       "        text-align: right;\n",
       "    }\n",
       "\n",
       "    .dataframe thead th {\n",
       "        text-align: left;\n",
       "    }\n",
       "\n",
       "    .dataframe tbody tr th {\n",
       "        vertical-align: top;\n",
       "    }\n",
       "</style>\n",
       "<table border=\"1\" class=\"dataframe\">\n",
       "  <thead>\n",
       "    <tr style=\"text-align: right;\">\n",
       "      <th></th>\n",
       "      <th>sell_ym</th>\n",
       "      <th>move_ym</th>\n",
       "      <th>sell_type</th>\n",
       "      <th>apt_type</th>\n",
       "      <th>apt_no</th>\n",
       "      <th>apt_nm</th>\n",
       "      <th>address</th>\n",
       "      <th>building_cnt</th>\n",
       "      <th>house_cnt</th>\n",
       "      <th>top_floor</th>\n",
       "      <th>characteristics</th>\n",
       "    </tr>\n",
       "  </thead>\n",
       "  <tbody>\n",
       "    <tr>\n",
       "      <th>0</th>\n",
       "      <td>201301</td>\n",
       "      <td>201303</td>\n",
       "      <td>민간분양</td>\n",
       "      <td>아파트</td>\n",
       "      <td>42645</td>\n",
       "      <td>세청파크빌</td>\n",
       "      <td>충청남도 홍성군 금마면 죽림리 82-15</td>\n",
       "      <td>0</td>\n",
       "      <td>237</td>\n",
       "      <td>0</td>\n",
       "      <td></td>\n",
       "    </tr>\n",
       "    <tr>\n",
       "      <th>2</th>\n",
       "      <td>201301</td>\n",
       "      <td>201411</td>\n",
       "      <td>민간분양</td>\n",
       "      <td>아파트</td>\n",
       "      <td>40161</td>\n",
       "      <td>인천간석 휴먼시아(1블록)</td>\n",
       "      <td>인천광역시 남동구 간석동 224</td>\n",
       "      <td>3</td>\n",
       "      <td>271</td>\n",
       "      <td>38</td>\n",
       "      <td>간석주거환경개선사업지구</td>\n",
       "    </tr>\n",
       "    <tr>\n",
       "      <th>3</th>\n",
       "      <td>201301</td>\n",
       "      <td>201411</td>\n",
       "      <td>민간분양</td>\n",
       "      <td>아파트</td>\n",
       "      <td>40163</td>\n",
       "      <td>인천간석 휴먼시아(2블록)</td>\n",
       "      <td>인천광역시 남동구 간석동 224</td>\n",
       "      <td>10</td>\n",
       "      <td>792</td>\n",
       "      <td>28</td>\n",
       "      <td>간석주거환경개선사업지구</td>\n",
       "    </tr>\n",
       "    <tr>\n",
       "      <th>8</th>\n",
       "      <td>201301</td>\n",
       "      <td>201412</td>\n",
       "      <td>민간분양</td>\n",
       "      <td>도시형생활주택</td>\n",
       "      <td>42647</td>\n",
       "      <td>응암 아네스트3차(도시형)</td>\n",
       "      <td>서울특별시 은평구 응암동 88-8</td>\n",
       "      <td>1</td>\n",
       "      <td>125</td>\n",
       "      <td>16</td>\n",
       "      <td></td>\n",
       "    </tr>\n",
       "    <tr>\n",
       "      <th>11</th>\n",
       "      <td>201301</td>\n",
       "      <td>201410</td>\n",
       "      <td>민간분양</td>\n",
       "      <td>임대</td>\n",
       "      <td>42150</td>\n",
       "      <td>대구금호 A-1(국민임대)</td>\n",
       "      <td>대구광역시 북구 금호동 금호지구 A-1블록</td>\n",
       "      <td>8</td>\n",
       "      <td>1088</td>\n",
       "      <td>24</td>\n",
       "      <td></td>\n",
       "    </tr>\n",
       "    <tr>\n",
       "      <th>12</th>\n",
       "      <td>201301</td>\n",
       "      <td>201301</td>\n",
       "      <td>민간분양</td>\n",
       "      <td>아파트</td>\n",
       "      <td>42652</td>\n",
       "      <td>백산그랜드</td>\n",
       "      <td>경상북도 영주시 풍기읍 성내리 240-2</td>\n",
       "      <td>1</td>\n",
       "      <td>52</td>\n",
       "      <td>15</td>\n",
       "      <td>6층이하 분양가 18,500만원/</td>\n",
       "    </tr>\n",
       "    <tr>\n",
       "      <th>13</th>\n",
       "      <td>201301</td>\n",
       "      <td>201507</td>\n",
       "      <td>민간분양</td>\n",
       "      <td>임대</td>\n",
       "      <td>41926</td>\n",
       "      <td>중흥S-클래스 리버티(민간임대)</td>\n",
       "      <td>광주광역시 광산구 우산동 1357</td>\n",
       "      <td>12</td>\n",
       "      <td>849</td>\n",
       "      <td>20</td>\n",
       "      <td></td>\n",
       "    </tr>\n",
       "    <tr>\n",
       "      <th>15</th>\n",
       "      <td>201301</td>\n",
       "      <td>201302</td>\n",
       "      <td>민간분양</td>\n",
       "      <td>아파트</td>\n",
       "      <td>42653</td>\n",
       "      <td>수피아</td>\n",
       "      <td>경상남도 창원시 양덕동 153-28</td>\n",
       "      <td>0</td>\n",
       "      <td>50</td>\n",
       "      <td>0</td>\n",
       "      <td></td>\n",
       "    </tr>\n",
       "    <tr>\n",
       "      <th>18</th>\n",
       "      <td>201301</td>\n",
       "      <td>201506</td>\n",
       "      <td>민간분양</td>\n",
       "      <td>도시형생활주택</td>\n",
       "      <td>42398</td>\n",
       "      <td>힐탑더블시티(도시형생활주택)</td>\n",
       "      <td>부산광역시 수영구 광안동 662-1</td>\n",
       "      <td>2</td>\n",
       "      <td>298</td>\n",
       "      <td>21</td>\n",
       "      <td></td>\n",
       "    </tr>\n",
       "    <tr>\n",
       "      <th>19</th>\n",
       "      <td>201301</td>\n",
       "      <td>201407</td>\n",
       "      <td>민간분양</td>\n",
       "      <td>아파트</td>\n",
       "      <td>42518</td>\n",
       "      <td>써미트</td>\n",
       "      <td>전라북도 전주시 동산동 671-4</td>\n",
       "      <td>5</td>\n",
       "      <td>310</td>\n",
       "      <td>20</td>\n",
       "      <td></td>\n",
       "    </tr>\n",
       "    <tr>\n",
       "      <th>20</th>\n",
       "      <td>201301</td>\n",
       "      <td>201506</td>\n",
       "      <td>민간분양</td>\n",
       "      <td>아파트</td>\n",
       "      <td>42344</td>\n",
       "      <td>세종시 호반베르디움 5차</td>\n",
       "      <td>세종특별자치시 고운동 고운동 1-1생활권 M4블록</td>\n",
       "      <td>10</td>\n",
       "      <td>688</td>\n",
       "      <td>25</td>\n",
       "      <td>세종특별자치시</td>\n",
       "    </tr>\n",
       "    <tr>\n",
       "      <th>22</th>\n",
       "      <td>201301</td>\n",
       "      <td>201401</td>\n",
       "      <td>민간분양</td>\n",
       "      <td>도시형생활주택</td>\n",
       "      <td>42658</td>\n",
       "      <td>인계미루(도시형)</td>\n",
       "      <td>경기도 수원시 인계동 1114-5</td>\n",
       "      <td>1</td>\n",
       "      <td>140</td>\n",
       "      <td>10</td>\n",
       "      <td></td>\n",
       "    </tr>\n",
       "    <tr>\n",
       "      <th>23</th>\n",
       "      <td>201301</td>\n",
       "      <td>201411</td>\n",
       "      <td>민간분양</td>\n",
       "      <td>아파트</td>\n",
       "      <td>42661</td>\n",
       "      <td>엘림샤인빌</td>\n",
       "      <td>전라북도 전주시 효자동2가 205</td>\n",
       "      <td>2</td>\n",
       "      <td>74</td>\n",
       "      <td>19</td>\n",
       "      <td></td>\n",
       "    </tr>\n",
       "    <tr>\n",
       "      <th>26</th>\n",
       "      <td>201301</td>\n",
       "      <td>201411</td>\n",
       "      <td>민간분양</td>\n",
       "      <td>도시형생활주택</td>\n",
       "      <td>42727</td>\n",
       "      <td>범어역풀비체(도시형)</td>\n",
       "      <td>대구광역시 수성구 범어동 790-10</td>\n",
       "      <td>1</td>\n",
       "      <td>86</td>\n",
       "      <td>13</td>\n",
       "      <td></td>\n",
       "    </tr>\n",
       "    <tr>\n",
       "      <th>27</th>\n",
       "      <td>201301</td>\n",
       "      <td>201506</td>\n",
       "      <td>민간분양</td>\n",
       "      <td>장기전세주택</td>\n",
       "      <td>42174</td>\n",
       "      <td>LH강남힐스테이트(장기전세주택)</td>\n",
       "      <td>서울특별시 강남구 자곡동 강남보금자리지구 A5블록</td>\n",
       "      <td>1</td>\n",
       "      <td>370</td>\n",
       "      <td>12</td>\n",
       "      <td>서울강남지구</td>\n",
       "    </tr>\n",
       "    <tr>\n",
       "      <th>28</th>\n",
       "      <td>201301</td>\n",
       "      <td>201312</td>\n",
       "      <td>민간분양</td>\n",
       "      <td>장기전세주택</td>\n",
       "      <td>42175</td>\n",
       "      <td>서울서초 A3블록(장기전세주택)</td>\n",
       "      <td>서울특별시 서초구 우면동 서울서초지구 A3블록</td>\n",
       "      <td>3</td>\n",
       "      <td>250</td>\n",
       "      <td>25</td>\n",
       "      <td>서울서초지구</td>\n",
       "    </tr>\n",
       "    <tr>\n",
       "      <th>29</th>\n",
       "      <td>201301</td>\n",
       "      <td>201505</td>\n",
       "      <td>민간분양</td>\n",
       "      <td>장기전세주택</td>\n",
       "      <td>42176</td>\n",
       "      <td>고양원흥 A3블록(장기전세주택)</td>\n",
       "      <td>경기도 고양시 원흥동 고양원흥지구 A3블록</td>\n",
       "      <td>4</td>\n",
       "      <td>384</td>\n",
       "      <td>22</td>\n",
       "      <td>원흥지구/303~306동/</td>\n",
       "    </tr>\n",
       "  </tbody>\n",
       "</table>\n",
       "</div>"
      ],
      "text/plain": [
       "   sell_ym move_ym sell_type apt_type apt_no             apt_nm  \\\n",
       "0   201301  201303      민간분양      아파트  42645              세청파크빌   \n",
       "2   201301  201411      민간분양      아파트  40161     인천간석 휴먼시아(1블록)   \n",
       "3   201301  201411      민간분양      아파트  40163     인천간석 휴먼시아(2블록)   \n",
       "8   201301  201412      민간분양  도시형생활주택  42647     응암 아네스트3차(도시형)   \n",
       "11  201301  201410      민간분양       임대  42150     대구금호 A-1(국민임대)   \n",
       "12  201301  201301      민간분양      아파트  42652              백산그랜드   \n",
       "13  201301  201507      민간분양       임대  41926  중흥S-클래스 리버티(민간임대)   \n",
       "15  201301  201302      민간분양      아파트  42653                수피아   \n",
       "18  201301  201506      민간분양  도시형생활주택  42398    힐탑더블시티(도시형생활주택)   \n",
       "19  201301  201407      민간분양      아파트  42518                써미트   \n",
       "20  201301  201506      민간분양      아파트  42344      세종시 호반베르디움 5차   \n",
       "22  201301  201401      민간분양  도시형생활주택  42658          인계미루(도시형)   \n",
       "23  201301  201411      민간분양      아파트  42661              엘림샤인빌   \n",
       "26  201301  201411      민간분양  도시형생활주택  42727        범어역풀비체(도시형)   \n",
       "27  201301  201506      민간분양   장기전세주택  42174  LH강남힐스테이트(장기전세주택)   \n",
       "28  201301  201312      민간분양   장기전세주택  42175  서울서초 A3블록(장기전세주택)   \n",
       "29  201301  201505      민간분양   장기전세주택  42176  고양원흥 A3블록(장기전세주택)   \n",
       "\n",
       "                        address building_cnt house_cnt top_floor  \\\n",
       "0        충청남도 홍성군 금마면 죽림리 82-15            0       237         0   \n",
       "2             인천광역시 남동구 간석동 224            3       271        38   \n",
       "3             인천광역시 남동구 간석동 224           10       792        28   \n",
       "8            서울특별시 은평구 응암동 88-8            1       125        16   \n",
       "11      대구광역시 북구 금호동 금호지구 A-1블록            8      1088        24   \n",
       "12       경상북도 영주시 풍기읍 성내리 240-2            1        52        15   \n",
       "13           광주광역시 광산구 우산동 1357           12       849        20   \n",
       "15          경상남도 창원시 양덕동 153-28            0        50         0   \n",
       "18          부산광역시 수영구 광안동 662-1            2       298        21   \n",
       "19           전라북도 전주시 동산동 671-4            5       310        20   \n",
       "20  세종특별자치시 고운동 고운동 1-1생활권 M4블록           10       688        25   \n",
       "22           경기도 수원시 인계동 1114-5            1       140        10   \n",
       "23           전라북도 전주시 효자동2가 205            2        74        19   \n",
       "26         대구광역시 수성구 범어동 790-10            1        86        13   \n",
       "27  서울특별시 강남구 자곡동 강남보금자리지구 A5블록            1       370        12   \n",
       "28    서울특별시 서초구 우면동 서울서초지구 A3블록            3       250        25   \n",
       "29      경기도 고양시 원흥동 고양원흥지구 A3블록            4       384        22   \n",
       "\n",
       "       characteristics  \n",
       "0                       \n",
       "2         간석주거환경개선사업지구  \n",
       "3         간석주거환경개선사업지구  \n",
       "8                       \n",
       "11                      \n",
       "12  6층이하 분양가 18,500만원/  \n",
       "13                      \n",
       "15                      \n",
       "18                      \n",
       "19                      \n",
       "20             세종특별자치시  \n",
       "22                      \n",
       "23                      \n",
       "26                      \n",
       "27              서울강남지구  \n",
       "28              서울서초지구  \n",
       "29      원흥지구/303~306동/  "
      ]
     },
     "metadata": {},
     "output_type": "display_data"
    },
    {
     "name": "stdout",
     "output_type": "stream",
     "text": [
      "Program Finised\n"
     ]
    }
   ],
   "source": [
    "# DB Connection Open\n",
    "con = get_db_connection()\n",
    "\n",
    "# 닥터아파트에서 월별 분양정보 가져오기\n",
    "# 테이블: drapt_move_basic\n",
    "# 테이블: drapt_move_size\n",
    "ym_list = get_ym_list('201301', '201301')\n",
    "for ym in ym_list :\n",
    "    print(ym)\n",
    "    df = apt_sell_info(con, ym)\n",
    "    for apt_no in df['apt_no'] :\n",
    "        apt_size_info(con, ym, apt_no)\n",
    "    time.sleep(10)\n",
    "\n",
    "# DB Connection Close\n",
    "disconnect_db(con)\n",
    "\n",
    "print('Program Finised')"
   ]
  },
  {
   "cell_type": "code",
   "execution_count": null,
   "metadata": {
    "collapsed": true
   },
   "outputs": [],
   "source": []
  }
 ],
 "metadata": {
  "kernelspec": {
   "display_name": "Python 3",
   "language": "python",
   "name": "python3"
  },
  "language_info": {
   "codemirror_mode": {
    "name": "ipython",
    "version": 3
   },
   "file_extension": ".py",
   "mimetype": "text/x-python",
   "name": "python",
   "nbconvert_exporter": "python",
   "pygments_lexer": "ipython3",
   "version": "3.4.3"
  }
 },
 "nbformat": 4,
 "nbformat_minor": 2
}
