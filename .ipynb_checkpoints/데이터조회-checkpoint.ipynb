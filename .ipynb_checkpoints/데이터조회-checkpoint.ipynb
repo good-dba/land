{
 "cells": [
  {
   "cell_type": "code",
   "execution_count": 19,
   "metadata": {
    "scrolled": false
   },
   "outputs": [
    {
     "name": "stdout",
     "output_type": "stream",
     "text": [
      "201703\n",
      "201704\n",
      "201705\n",
      "201706\n",
      "201707\n",
      "201708\n",
      "201709\n",
      "Program Finised\n"
     ]
    }
   ],
   "source": [
    "# 수집된 데이터 조회\n",
    "from LandBase import *\n",
    "\n",
    "# DB Connection Open\n",
    "con = get_db_connection()\n",
    "\n",
    "# DB처리\n",
    "sql = ''\n",
    "con.execute(sql)\n",
    "\n",
    "\n",
    "# DB Connection Close\n",
    "disconnect_db(con)\n",
    "\n",
    "print('Program Finised')"
   ]
  },
  {
   "cell_type": "code",
   "execution_count": null,
   "metadata": {
    "collapsed": true
   },
   "outputs": [],
   "source": [
    "%matplotlib inline\n",
    "\n",
    "# DB Connection Open\n",
    "con = get_db_connection()\n",
    "\n",
    "sql = 'select tax_yyyy, tax_office, tax_amount from tax_history '\\\n",
    "+'where tax_office in (select tax_office from tax_office where main_office = \\'서울청\\')' \\\n",
    "+'and tax_office in (\\'금천\\', \\'강남\\', \\'강서\\', \\'구로\\', \\'양천\\')'\n",
    "rows = con.execute(sql).fetchall()\n",
    "df = pd.DataFrame( [[column for column in row] for row in rows] )\n",
    "df.columns=['연도','세무소','근로소득세']\n",
    "df = df.pivot(index='연도', columns='세무소', values='근로소득세')\n",
    "#df.set_index(['연도'], drop=True, inplace=True)\n",
    "\n",
    "# 차트그리기\n",
    "#df.plot(kind='bar', stacked=True, figsize=(14,4))\n",
    "df.plot(kind='line', figsize=(10,4))\n",
    "plt.title('근로소득세 추이(2012~2016)', fontsize=14, fontweight='bold')\n",
    "plt.legend(bbox_to_anchor=(0.5, -0.3), loc='upper center', ncol=10)\n",
    "\n",
    "# DB Connection Close\n",
    "disconnect_db(con)"
   ]
  }
 ],
 "metadata": {
  "kernelspec": {
   "display_name": "Python 3",
   "language": "python",
   "name": "python3"
  },
  "language_info": {
   "codemirror_mode": {
    "name": "ipython",
    "version": 3
   },
   "file_extension": ".py",
   "mimetype": "text/x-python",
   "name": "python",
   "nbconvert_exporter": "python",
   "pygments_lexer": "ipython3",
   "version": "3.4.3"
  }
 },
 "nbformat": 4,
 "nbformat_minor": 2
}
